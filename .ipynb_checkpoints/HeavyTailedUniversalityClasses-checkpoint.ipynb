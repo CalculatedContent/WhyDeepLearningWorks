{
 "cells": [
  {
   "cell_type": "markdown",
   "metadata": {},
   "source": [
    "# Heavy Tailed Universality Classes\n",
    "\n",
    "\n",
    "\n",
    "Here we demonstrate how the Heavy Tailed / Power Law Universality Classes work for correlation matrices for our layer weight matrices\n",
    "\n",
    "$$\\mathbf{X}=\\mathbf{W}^{T}{W}$$\n",
    "\n",
    "Suppose $\\mathbf{W}$ is a random matrix, we choose the matrix elements $W_{i,j}=x$ from a power law (i.e. Pareto) distibution, such that \n",
    "\n",
    "$$p(W_{i,j})=p(x)\\sim\\dfrac{1}{x^{1+\\mu}},\\;\\;\\mu>0$$\n",
    "\n",
    "### Levy and Truncated Levy Power Laws\n",
    "Note: for any finite empirical density $p_{N}(x)$ (a finite sample $N$ of $p(x)$), when\n",
    "\n",
    "- $\\mu<2$, $p_{N}(x)$ remains a Power Law distribution even in the infinite limit $N\\rightarrow\\infty$.  This is a Levy Distribution.\n",
    "\n",
    "\n",
    "- $\\mu<4$, $p_{N}(x)$ is a Power Law distribution for any finite N (i.e. the tails decay very slow), but in the infinite limit $N\\rightarrow\\infty$, the tails $p_{N}(x)$ stop behaving like a Power law.  This is a Trucated Levy Distribution.\n",
    "\n",
    "\n",
    "-  $\\mu>4$, $p_{N}(x)$ has finite 4th moment, and no longer has tails that exhibit Power law decay, even at finite $N$\n",
    "\n",
    "It turns out, the eigenvalues of $\\mathbf{X}$ behave in a similar way\n",
    "\n",
    "### Emprical Spectral Density (ESD) $p(\\lambda)$\n",
    "\n",
    "Compute the eigenvalues $\\lambda$ of $\\mathbf{X}$, \n",
    "\n",
    "$$\\mathbf{X}\\mathbf{v}=\\lambda\\mathbf{x}$$\n",
    "\n",
    "and form a histogram representing the Emprical Spectral Density (ESD) $p(\\lambda)$\n",
    "\n",
    "It turns out, for any finite size matrix $\\mathbf{W}$ (when $\\mu<4$ in particular), we have\n",
    "\n",
    "$$p(\\lambda)\\sim\\dfrac{1}{\\lambda^{\\alpha}}$$\n",
    "\n",
    "We want to understand, given $\\mu$, what is $\\alpha$?\n",
    "\n",
    "The problem was discussed by Soshnikov.  Later, these results were extended, to $0<\\mu<4$, by Biroli et al., with heuristic arguments and numerical simulations:  https://arxiv.org/abs/cond-mat/0609070\n",
    "\n",
    "and also see page 27\n",
    "http://www-syscom.univ-mlv.fr/~najim/gdr/bouchaud.pdf\n",
    "\n",
    "It was proven rigorously  Auffinger et al. https://arxiv.org/pdf/0811.1587.pdf\n",
    "\n",
    "(see also https://www.uni-ulm.de/fileadmin/website_uni_ulm/mawi.inst.050/people/stelzer/DavisPfaffelStelzer2013.pdf)\n",
    "\n",
    "\n",
    "We summarize the basic results and provide numerical simulations to help understand this\n",
    "\n",
    "\n",
    "#### Power Law $\\mu<2$\n",
    "\n",
    "For small mu, we have $\\alpha=1+\\mu/2$, such that the ESD behaves like a Power Law\n",
    "\n",
    "\n",
    " $$\\rho(\\lambda)\\sim\\dfrac{1}{\\lambda^{1+\\mu/2}}$$\n",
    "   \n",
    "  \n",
    "#### Truncated Power Law $2<\\mu<2$\n",
    "\n",
    "When $p(x)$ is a Truncated Power Law, the ESD has a different relation, $\\alpha\\sim A\\mu+B$\n",
    "\n",
    " $$\\rho(\\lambda)\\sim\\dfrac{1}{\\lambda^{A\\mu+B}}$$\n",
    " \n",
    "and remains a Power Law, even for finite matrices. \n",
    "\n",
    "We can determine the constants $A, B$ from numerical solution (shown below)\n",
    " \n",
    "#### Marchenk Pastur limiting form $4<\\mu$\n",
    "\n",
    "In this case, the ESD approaches the more familir Marchenko Pastur result from Random Matrix Theory\n",
    "\n",
    " $$p_{N}(\\lambda)\\rightarrow\\rho_{mp}(\\lambda)$$\n",
    " \n",
    "and the maximum eigenvalue $\\lambda_{max}$ follows Tracy-Widom statistics\n",
    "\n",
    "BUT it may be difficult to observe this for any finite size, small matrix because there may be supriously large matrix elements (and therefore large eigenvalues).\n",
    "\n",
    "#### Boundary Cases $\\mu=2, 4$   \n",
    "\n",
    "There are boundary cases for $\\mu=2$ and $\\mu=4$ which are interesting but I do not discuss here because it would be very difficult to observe these results for small matrices.\n",
    "\n",
    "#### PowerLaw fitting code\n",
    "\n",
    "https://github.com/jeffalstott/powerlaw\n"
   ]
  },
  {
   "cell_type": "code",
   "execution_count": 1,
   "metadata": {
    "ExecuteTime": {
     "end_time": "2018-08-19T06:55:05.395126Z",
     "start_time": "2018-08-19T06:55:02.827969Z"
    }
   },
   "outputs": [
    {
     "name": "stderr",
     "output_type": "stream",
     "text": [
      "/Users/charlesmartin14/anaconda3/lib/python3.6/importlib/_bootstrap.py:219: RuntimeWarning: compiletime version 3.5 of module 'tensorflow.python.framework.fast_tensor_util' does not match runtime version 3.6\n",
      "  return f(*args, **kwds)\n",
      "/Users/charlesmartin14/.local/lib/python3.6/site-packages/h5py/__init__.py:34: FutureWarning: Conversion of the second argument of issubdtype from `float` to `np.floating` is deprecated. In future, it will be treated as `np.float64 == np.dtype(float).type`.\n",
      "  from ._conv import register_converters as _register_converters\n"
     ]
    },
    {
     "name": "stdout",
     "output_type": "stream",
     "text": [
      "importing notebook from RMT_Util.ipynb\n"
     ]
    },
    {
     "name": "stderr",
     "output_type": "stream",
     "text": [
      "Using TensorFlow backend.\n"
     ]
    },
    {
     "name": "stdout",
     "output_type": "stream",
     "text": [
      "3.6.5 |Anaconda custom (64-bit)| (default, Apr 26 2018, 08:42:37) \n",
      "[GCC 4.2.1 Compatible Clang 4.0.1 (tags/RELEASE_401/final)]\n",
      "numpy version 1.14.2\n",
      "scipy version 1.0.1\n",
      "tensforflow version 1.5.0-dev20171116\n",
      "keras version 2.1.5\n",
      "sklearn version 0.19.1\n",
      "powerlaw version 1.4.3\n",
      "0.19.1\n"
     ]
    }
   ],
   "source": [
    "import numpy as np\n",
    "import tensorflow as tf\n",
    "import pickle, time\n",
    "from copy import deepcopy\n",
    "from shutil import copy\n",
    "from tqdm import tqdm_notebook as tqdm\n",
    "import pandas as pd\n",
    "\n",
    "import matplotlib\n",
    "import matplotlib.pyplot as plt\n",
    "%matplotlib inline\n",
    "\n",
    "import import_ipynb\n",
    "import RMT_Util\n",
    "import powerlaw\n",
    "\n",
    "import sklearn\n",
    "from sklearn.decomposition import TruncatedSVD\n",
    "from sklearn.random_projection import sparse_random_matrix\n",
    "print(sklearn.__version__)"
   ]
  },
  {
   "cell_type": "markdown",
   "metadata": {},
   "source": [
    "### $\\mu<2$   Pareto / Power Law Distributions\n",
    "\n",
    "Notice:\n",
    "- log-log plots are farily linear past after $x_{max}\\sim 1$ value\n",
    "- as $\\mu$ decreases, the tail fills out."
   ]
  },
  {
   "cell_type": "code",
   "execution_count": 2,
   "metadata": {
    "ExecuteTime": {
     "end_time": "2018-08-19T06:55:06.397018Z",
     "start_time": "2018-08-19T06:55:05.396790Z"
    }
   },
   "outputs": [
    {
     "data": {
      "image/png": "[encoded data removed]",
      "text/plain": [
       "<Figure size 432x288 with 1 Axes>"
      ]
     },
     "metadata": {},
     "output_type": "display_data"
    }
   ],
   "source": [
    "mu=1.2 # Blue\n",
    "w = np.random.pareto(mu,size=10000)\n",
    "bins = np.logspace(np.log10(np.min(w)), np.log10(np.max(w)), num=100)\n",
    "plt.hist(w, bins=bins, density=True, log=True, color='blue', alpha=0.5);\n",
    "plt.xscale('log')\n",
    "\n",
    "mu=0.8 # Red\n",
    "w = np.random.pareto(mu,size=10000)\n",
    "bins = np.logspace(np.log10(np.min(w)), np.log10(np.max(w)), num=100)\n",
    "plt.hist(w, bins=bins, density=True, log=True, color='red', alpha=0.25);\n",
    "plt.xscale('log')\n",
    "\n",
    "mu=0.4  # Yellow\n",
    "w = np.random.pareto(mu,size=10000)\n",
    "bins = np.logspace(np.log10(np.min(w)), np.log10(np.max(w)), num=100)\n",
    "plt.hist(w, bins=bins, density=True, log=True, color='yellow', alpha=0.25);\n",
    "plt.xscale('log')\n",
    "plt.show()"
   ]
  },
  {
   "cell_type": "markdown",
   "metadata": {},
   "source": [
    "### $\\mu=0.4$ ESD  Log-Log Histogram\n",
    "\n",
    "Notice tail extends way into $\\lambda_{max}\\sim 10^{25}$ and remains linear the entire time"
   ]
  },
  {
   "cell_type": "code",
   "execution_count": 3,
   "metadata": {
    "ExecuteTime": {
     "end_time": "2018-08-19T06:55:06.956120Z",
     "start_time": "2018-08-19T06:55:06.399314Z"
    }
   },
   "outputs": [
    {
     "data": {
      "image/png": "[encoded data removed]",
      "text/plain": [
       "<Figure size 432x288 with 1 Axes>"
      ]
     },
     "metadata": {},
     "output_type": "display_data"
    }
   ],
   "source": [
    "mu=0.4\n",
    "W = np.random.pareto(mu,size=(300,1000))\n",
    "Q = np.max(W.shape)/np.min(W.shape)\n",
    "evals, _ = RMT_Util.eigenspectrum(W)\n",
    "bins = np.logspace(np.log10(np.min(evals)), np.log10(np.max(evals)), num=100)\n",
    "plt.hist(evals, bins=bins, density=True, log=True, color='blue', alpha=0.25);\n",
    "plt.xscale('log')\n",
    "plt.title(r'$\\rho(\\lambda)$  $\\mu={}$'.format(mu))\n",
    "plt.show()"
   ]
  },
  {
   "cell_type": "markdown",
   "metadata": {},
   "source": [
    "#### PowerLaw fit  $\\mu=0.4$  too small\n",
    "\n",
    "The PowerLaw method does not work well here..it over-estimates $\\alpha$, as expected, and it mis-identifies the distribution as a Truncated power law.\n"
   ]
  },
  {
   "cell_type": "code",
   "execution_count": 4,
   "metadata": {
    "ExecuteTime": {
     "end_time": "2018-08-19T06:55:07.875151Z",
     "start_time": "2018-08-19T06:55:06.958081Z"
    }
   },
   "outputs": [
    {
     "name": "stderr",
     "output_type": "stream",
     "text": [
      "Calculating best minimal value for power law fit\n",
      "/Users/charlesmartin14/anaconda3/lib/python3.6/site-packages/powerlaw.py:697: RuntimeWarning: divide by zero encountered in true_divide\n",
      "  (Theoretical_CDF * (1 - Theoretical_CDF))\n",
      "/Users/charlesmartin14/anaconda3/lib/python3.6/site-packages/powerlaw.py:697: RuntimeWarning: invalid value encountered in true_divide\n",
      "  (Theoretical_CDF * (1 - Theoretical_CDF))\n",
      "Assuming nested distributions\n"
     ]
    },
    {
     "name": "stdout",
     "output_type": "stream",
     "text": [
      "alpha 1.16191, D 0.036501, best_pl  PL\n"
     ]
    }
   ],
   "source": [
    "alpha, D, best_pl = RMT_Util.fit_powerlaw(evals)\n",
    "print(\"alpha {:3g}, D {:3g}, best_pl  {}\".format(alpha, D, best_pl))"
   ]
  },
  {
   "cell_type": "markdown",
   "metadata": {},
   "source": [
    "### $\\mu=1.2$ ESD\n",
    "\n",
    "The tail remains fat but only extends to $\\lambda_{max}\\sim 10^6$ and the log-log plot is linear\n"
   ]
  },
  {
   "cell_type": "code",
   "execution_count": 5,
   "metadata": {
    "ExecuteTime": {
     "end_time": "2018-08-19T06:55:08.828326Z",
     "start_time": "2018-08-19T06:55:07.877748Z"
    }
   },
   "outputs": [
    {
     "data": {
      "image/png": "[encoded data removed]",
      "text/plain": [
       "<Figure size 432x288 with 1 Axes>"
      ]
     },
     "metadata": {},
     "output_type": "display_data"
    }
   ],
   "source": [
    "mu=1.2\n",
    "W = np.random.pareto(mu,size=(300,1000))\n",
    "Q = np.max(W.shape)/np.min(W.shape)\n",
    "evals, _ = RMT_Util.eigenspectrum(W)\n",
    "bins = np.logspace(np.log10(np.min(evals)), np.log10(np.max(evals)), num=100)\n",
    "plt.hist(evals, bins=bins, density=True, log=True, color='blue', alpha=0.25);\n",
    "plt.xscale('log')\n",
    "plt.title(r'$\\rho(\\lambda)$  $\\mu={}$'.format(mu))\n",
    "plt.show()"
   ]
  },
  {
   "cell_type": "markdown",
   "metadata": {
    "ExecuteTime": {
     "end_time": "2018-08-19T05:25:25.551331Z",
     "start_time": "2018-08-19T05:25:25.548134Z"
    }
   },
   "source": [
    "#### Power Law fit:  much better\n",
    "\n",
    "For small $\\mu$, the PowerLaw method consistantly returns a best fit to be Truncated Power Law (TPL)\n"
   ]
  },
  {
   "cell_type": "code",
   "execution_count": 6,
   "metadata": {
    "ExecuteTime": {
     "end_time": "2018-08-19T06:55:09.770235Z",
     "start_time": "2018-08-19T06:55:08.830497Z"
    }
   },
   "outputs": [
    {
     "name": "stderr",
     "output_type": "stream",
     "text": [
      "Calculating best minimal value for power law fit\n",
      "/Users/charlesmartin14/anaconda3/lib/python3.6/site-packages/powerlaw.py:697: RuntimeWarning: divide by zero encountered in true_divide\n",
      "  (Theoretical_CDF * (1 - Theoretical_CDF))\n",
      "/Users/charlesmartin14/anaconda3/lib/python3.6/site-packages/powerlaw.py:697: RuntimeWarning: invalid value encountered in true_divide\n",
      "  (Theoretical_CDF * (1 - Theoretical_CDF))\n"
     ]
    },
    {
     "name": "stdout",
     "output_type": "stream",
     "text": [
      "alpha 1.53675, D 0.0597524, best_pl  TPL\n"
     ]
    },
    {
     "name": "stderr",
     "output_type": "stream",
     "text": [
      "Assuming nested distributions\n"
     ]
    }
   ],
   "source": [
    "alpha, D, best_pl = RMT_Util.fit_powerlaw(evals)\n",
    "print(\"alpha {:3g}, D {:3g}, best_pl  {}\".format(alpha, D, best_pl))"
   ]
  },
  {
   "cell_type": "code",
   "execution_count": 7,
   "metadata": {
    "ExecuteTime": {
     "end_time": "2018-08-19T06:55:10.555561Z",
     "start_time": "2018-08-19T06:55:09.772844Z"
    }
   },
   "outputs": [
    {
     "name": "stderr",
     "output_type": "stream",
     "text": [
      "Calculating best minimal value for power law fit\n",
      "/Users/charlesmartin14/anaconda3/lib/python3.6/site-packages/powerlaw.py:697: RuntimeWarning: divide by zero encountered in true_divide\n",
      "  (Theoretical_CDF * (1 - Theoretical_CDF))\n",
      "/Users/charlesmartin14/anaconda3/lib/python3.6/site-packages/powerlaw.py:697: RuntimeWarning: invalid value encountered in true_divide\n",
      "  (Theoretical_CDF * (1 - Theoretical_CDF))\n",
      "Assuming nested distributions\n"
     ]
    },
    {
     "data": {
      "text/plain": [
       "(2.4556714183843207, 0.012133900906687312)"
      ]
     },
     "execution_count": 7,
     "metadata": {},
     "output_type": "execute_result"
    }
   ],
   "source": [
    "fit = powerlaw.Fit(evals, xmax=np.max(evals))\n",
    "R, p = fit.distribution_compare('truncated_power_law', 'power_law', normalized_ratio=True)\n",
    "R, p"
   ]
  },
  {
   "cell_type": "code",
   "execution_count": 8,
   "metadata": {
    "ExecuteTime": {
     "end_time": "2018-08-19T06:55:11.233073Z",
     "start_time": "2018-08-19T06:55:10.557742Z"
    }
   },
   "outputs": [
    {
     "data": {
      "image/png": "[encoded data removed]",
      "text/plain": [
       "<Figure size 432x288 with 1 Axes>"
      ]
     },
     "metadata": {},
     "output_type": "display_data"
    }
   ],
   "source": [
    "fig2 = fit.plot_pdf(color='b', linewidth=2)\n",
    "fit.power_law.plot_pdf(color='b', linestyle='--', ax=fig2)\n",
    "fit.plot_ccdf(color='r', linewidth=2, ax=fig2)\n",
    "fit.power_law.plot_ccdf(color='r', linestyle='--', ax=fig2)\n",
    "plt.title(r'fit of $\\mu=1.2$ ESD')\n",
    "plt.show()\n"
   ]
  },
  {
   "cell_type": "markdown",
   "metadata": {},
   "source": [
    "### $2<\\mu<4$\n",
    "\n",
    "- The maximum eigenvalue $\\lambda_{max}\\sim\\mathcal{O}(10^2)$\n",
    "\n",
    "- The log-log plot is nearly linear, but noisy\n",
    "\n",
    "- The eigenvalue density is sparse for large $\\lambda$\n",
    "\n",
    "- and the tail drops off faster than linear\n",
    "\n",
    "- The PowerLaw method consistantly returns a best fit to be Power Law (PL)\n",
    "\n"
   ]
  },
  {
   "cell_type": "code",
   "execution_count": 9,
   "metadata": {
    "ExecuteTime": {
     "end_time": "2018-08-19T06:55:13.268018Z",
     "start_time": "2018-08-19T06:55:11.235765Z"
    }
   },
   "outputs": [
    {
     "data": {
      "image/png": "[encoded data removed]",
      "text/plain": [
       "<Figure size 432x288 with 1 Axes>"
      ]
     },
     "metadata": {},
     "output_type": "display_data"
    },
    {
     "name": "stderr",
     "output_type": "stream",
     "text": [
      "Calculating best minimal value for power law fit\n",
      "/Users/charlesmartin14/anaconda3/lib/python3.6/site-packages/powerlaw.py:697: RuntimeWarning: divide by zero encountered in true_divide\n",
      "  (Theoretical_CDF * (1 - Theoretical_CDF))\n",
      "/Users/charlesmartin14/anaconda3/lib/python3.6/site-packages/powerlaw.py:697: RuntimeWarning: invalid value encountered in true_divide\n",
      "  (Theoretical_CDF * (1 - Theoretical_CDF))\n",
      "Assuming nested distributions\n",
      "/Users/charlesmartin14/anaconda3/lib/python3.6/site-packages/powerlaw.py:1602: RuntimeWarning: invalid value encountered in true_divide\n",
      "  CDF = CDF/norm\n",
      "/Users/charlesmartin14/anaconda3/lib/python3.6/site-packages/numpy/core/_methods.py:29: RuntimeWarning: invalid value encountered in reduce\n",
      "  return umr_minimum(a, axis, None, out, keepdims)\n",
      "'nan' in fit cumulative distribution values.\n",
      "Likely underflow or overflow error: the optimal fit for this distribution gives values that are so extreme that we lack the numerical precision to calculate them.\n",
      "/Users/charlesmartin14/anaconda3/lib/python3.6/site-packages/numpy/core/_methods.py:26: RuntimeWarning: invalid value encountered in reduce\n",
      "  return umr_maximum(a, axis, None, out, keepdims)\n"
     ]
    },
    {
     "name": "stdout",
     "output_type": "stream",
     "text": [
      "alpha 2.58515, D 0.0346402, best_pl  PL\n"
     ]
    },
    {
     "data": {
      "image/png": "[encoded data removed]",
      "text/plain": [
       "<Figure size 432x288 with 1 Axes>"
      ]
     },
     "metadata": {},
     "output_type": "display_data"
    }
   ],
   "source": [
    "mu=2.5\n",
    "W = np.random.pareto(mu,size=(300,1000))\n",
    "Q = np.max(W.shape)/np.min(W.shape)\n",
    "evals, _ = RMT_Util.eigenspectrum(W)\n",
    "bins = np.logspace(np.log10(np.min(evals)), np.log10(np.max(evals)), num=100)\n",
    "plt.hist(evals, bins=bins, density=True, log=True, color='blue', alpha=0.25);\n",
    "plt.xscale('log')\n",
    "plt.title(r'$\\rho(\\lambda)$  $\\mu={}$'.format(mu))\n",
    "plt.show()\n",
    "\n",
    "RMT_Util.fit_and_plot_powerlaw(evals)"
   ]
  },
  {
   "cell_type": "code",
   "execution_count": 10,
   "metadata": {
    "ExecuteTime": {
     "end_time": "2018-08-19T06:55:15.394484Z",
     "start_time": "2018-08-19T06:55:13.270475Z"
    }
   },
   "outputs": [
    {
     "data": {
      "image/png": "[encoded data removed]",
      "text/plain": [
       "<Figure size 432x288 with 1 Axes>"
      ]
     },
     "metadata": {},
     "output_type": "display_data"
    },
    {
     "name": "stderr",
     "output_type": "stream",
     "text": [
      "Calculating best minimal value for power law fit\n",
      "/Users/charlesmartin14/anaconda3/lib/python3.6/site-packages/powerlaw.py:697: RuntimeWarning: divide by zero encountered in true_divide\n",
      "  (Theoretical_CDF * (1 - Theoretical_CDF))\n",
      "/Users/charlesmartin14/anaconda3/lib/python3.6/site-packages/powerlaw.py:697: RuntimeWarning: invalid value encountered in true_divide\n",
      "  (Theoretical_CDF * (1 - Theoretical_CDF))\n",
      "Assuming nested distributions\n",
      "/Users/charlesmartin14/anaconda3/lib/python3.6/site-packages/powerlaw.py:1602: RuntimeWarning: invalid value encountered in true_divide\n",
      "  CDF = CDF/norm\n",
      "/Users/charlesmartin14/anaconda3/lib/python3.6/site-packages/numpy/core/_methods.py:29: RuntimeWarning: invalid value encountered in reduce\n",
      "  return umr_minimum(a, axis, None, out, keepdims)\n",
      "'nan' in fit cumulative distribution values.\n",
      "Likely underflow or overflow error: the optimal fit for this distribution gives values that are so extreme that we lack the numerical precision to calculate them.\n",
      "/Users/charlesmartin14/anaconda3/lib/python3.6/site-packages/numpy/core/_methods.py:26: RuntimeWarning: invalid value encountered in reduce\n",
      "  return umr_maximum(a, axis, None, out, keepdims)\n"
     ]
    },
    {
     "name": "stdout",
     "output_type": "stream",
     "text": [
      "alpha 3.61301, D 0.0570351, best_pl  PL\n"
     ]
    },
    {
     "data": {
      "image/png": "[encoded data removed]",
      "text/plain": [
       "<Figure size 432x288 with 1 Axes>"
      ]
     },
     "metadata": {},
     "output_type": "display_data"
    }
   ],
   "source": [
    "mu=3.5\n",
    "W = np.random.pareto(mu,size=(300,1000))\n",
    "Q = np.max(W.shape)/np.min(W.shape)\n",
    "evals, _ = RMT_Util.eigenspectrum(W)\n",
    "bins = np.logspace(np.log10(np.min(evals)), np.log10(np.max(evals)), num=100)\n",
    "plt.hist(evals, bins=bins, density=True, log=True, color='blue', alpha=0.25);\n",
    "plt.xscale('log')\n",
    "plt.title(r'$\\rho(\\lambda)$  $\\mu={}$'.format(mu))\n",
    "plt.show() \n",
    "\n",
    "RMT_Util.fit_and_plot_powerlaw(evals)\n"
   ]
  },
  {
   "cell_type": "markdown",
   "metadata": {},
   "source": [
    "### $4<\\mu$, here $\\mu=5$\n",
    "\n",
    "- Now the density dies abruptly at $\\lambda_{max}\\sim\\mathcal{0}(1)$\n",
    "- The is some finite-size noise, leading to a spuriously large maximum eigenvalue $\\lambda_{max}\\sim 10^2$\n"
   ]
  },
  {
   "cell_type": "code",
   "execution_count": 11,
   "metadata": {
    "ExecuteTime": {
     "end_time": "2018-08-19T06:55:17.369219Z",
     "start_time": "2018-08-19T06:55:15.396870Z"
    }
   },
   "outputs": [
    {
     "data": {
      "image/png": "[encoded data removed]",
      "text/plain": [
       "<Figure size 432x288 with 1 Axes>"
      ]
     },
     "metadata": {},
     "output_type": "display_data"
    },
    {
     "name": "stderr",
     "output_type": "stream",
     "text": [
      "Calculating best minimal value for power law fit\n",
      "/Users/charlesmartin14/anaconda3/lib/python3.6/site-packages/powerlaw.py:697: RuntimeWarning: divide by zero encountered in true_divide\n",
      "  (Theoretical_CDF * (1 - Theoretical_CDF))\n",
      "/Users/charlesmartin14/anaconda3/lib/python3.6/site-packages/powerlaw.py:697: RuntimeWarning: invalid value encountered in true_divide\n",
      "  (Theoretical_CDF * (1 - Theoretical_CDF))\n",
      "Assuming nested distributions\n",
      "/Users/charlesmartin14/anaconda3/lib/python3.6/site-packages/powerlaw.py:1602: RuntimeWarning: invalid value encountered in true_divide\n",
      "  CDF = CDF/norm\n",
      "/Users/charlesmartin14/anaconda3/lib/python3.6/site-packages/numpy/core/_methods.py:29: RuntimeWarning: invalid value encountered in reduce\n",
      "  return umr_minimum(a, axis, None, out, keepdims)\n",
      "'nan' in fit cumulative distribution values.\n",
      "Likely underflow or overflow error: the optimal fit for this distribution gives values that are so extreme that we lack the numerical precision to calculate them.\n",
      "/Users/charlesmartin14/anaconda3/lib/python3.6/site-packages/numpy/core/_methods.py:26: RuntimeWarning: invalid value encountered in reduce\n",
      "  return umr_maximum(a, axis, None, out, keepdims)\n"
     ]
    },
    {
     "name": "stdout",
     "output_type": "stream",
     "text": [
      "alpha 3.58624, D 0.0975215, best_pl  PL\n"
     ]
    },
    {
     "data": {
      "image/png": "[encoded data removed]",
      "text/plain": [
       "<Figure size 432x288 with 1 Axes>"
      ]
     },
     "metadata": {},
     "output_type": "display_data"
    }
   ],
   "source": [
    "mu=5.0\n",
    "W = np.random.pareto(mu,size=(300,1000))\n",
    "Q = np.max(W.shape)/np.min(W.shape)\n",
    "evals, _ = RMT_Util.eigenspectrum(W)\n",
    "bins = np.logspace(np.log10(np.min(evals)), np.log10(np.max(evals)), num=100)\n",
    "plt.hist(evals, bins=bins, density=True, log=True, color='blue', alpha=0.25);\n",
    "plt.xscale('log')\n",
    "plt.title(r'$\\rho(\\lambda)$  $\\mu={}$'.format(mu))\n",
    "plt.show() \n",
    "\n",
    "RMT_Util.fit_and_plot_powerlaw(evals)"
   ]
  },
  {
   "cell_type": "markdown",
   "metadata": {},
   "source": [
    "### Overlay $\\mu=1.0$ and $\\mu=3.0$ to compare how the ESDs decay on a log-log Histogram\n",
    "\n",
    "Here we can really see the difference between the full Power Law ($\\mu=1.0) and decaying ESD ($\\mu=3.0$)"
   ]
  },
  {
   "cell_type": "code",
   "execution_count": 12,
   "metadata": {
    "ExecuteTime": {
     "end_time": "2018-08-19T06:56:05.298929Z",
     "start_time": "2018-08-19T06:55:17.371760Z"
    }
   },
   "outputs": [
    {
     "data": {
      "text/plain": [
       "<matplotlib.legend.Legend at 0x1198b54a8>"
      ]
     },
     "execution_count": 12,
     "metadata": {},
     "output_type": "execute_result"
    },
    {
     "data": {
      "image/png": "[encoded data removed]",
      "text/plain": [
       "<Figure size 432x288 with 1 Axes>"
      ]
     },
     "metadata": {},
     "output_type": "display_data"
    }
   ],
   "source": [
    "W = np.random.pareto(1.0,size=(3000,9000))\n",
    "W = W/100\n",
    "Q = np.max(W.shape)/np.min(W.shape)\n",
    "evals_small, _ = RMT_Util.eigenspectrum(W)\n",
    "\n",
    "W = np.random.pareto(3.0,size=(3000,9000))\n",
    "W = W\n",
    "Q = np.max(W.shape)/np.min(W.shape)\n",
    "evals_medium, _ = RMT_Util.eigenspectrum(W)\n",
    "\n",
    "bins = np.logspace(np.log10(np.min(evals_small)), np.log10(np.max(evals_small)), num=100)\n",
    "plt.hist(evals_small, bins=bins, density=True, log=True, color='blue', alpha=0.25, label=\"$\\mu=1$\");\n",
    "plt.xscale('log')\n",
    "#plt.show()\n",
    "\n",
    "bins = np.logspace(np.log10(np.min(evals_medium)), np.log10(np.max(evals_medium)), num=100)\n",
    "plt.hist(evals_medium, bins=bins, density=True, log=True, color='green', alpha=0.25, label=\"$\\mu=3$\");\n",
    "plt.xscale('log')\n",
    "plt.title(\"Comparison of Log-log Histogram for different heavy tailed matrix ESDs\")\n",
    "plt.legend()\n",
    "\n",
    "# plt.savefig(\"img/heavy-tailed-log-log-esds.png\")"
   ]
  },
  {
   "cell_type": "code",
   "execution_count": 13,
   "metadata": {
    "ExecuteTime": {
     "end_time": "2018-08-19T06:56:05.993225Z",
     "start_time": "2018-08-19T06:56:05.300669Z"
    }
   },
   "outputs": [
    {
     "data": {
      "text/plain": [
       "<matplotlib.legend.Legend at 0x1177ebc18>"
      ]
     },
     "execution_count": 13,
     "metadata": {},
     "output_type": "execute_result"
    },
    {
     "data": {
      "image/png": "[encoded data removed]",
      "text/plain": [
       "<Figure size 432x288 with 1 Axes>"
      ]
     },
     "metadata": {},
     "output_type": "display_data"
    }
   ],
   "source": [
    "bins = np.logspace(np.log10(np.min(evals_medium)), np.log10(np.max(evals_medium)), num=100)\n",
    "plt.hist(evals_medium, bins=bins, density=True, log=True, color='green', alpha=0.25, label=\"$\\mu=3$\");\n",
    "plt.xscale('log')\n",
    "plt.title(\"Log-log Histogram for $\\mu=3$, Zoomed in\")\n",
    "plt.legend()\n",
    "\n",
    "# plt.savefig(\"img/heavy-tailed-log-log-esd-zoomed.png\")"
   ]
  },
  {
   "cell_type": "markdown",
   "metadata": {},
   "source": [
    "### ESDs  Fits, comparison to Theory\n",
    "\n",
    "This is pretty slow (> 4 hours), but it will let us see how $\\mu$ relates to $\\alpha$ for each Universality Class"
   ]
  },
  {
   "cell_type": "code",
   "execution_count": 14,
   "metadata": {
    "ExecuteTime": {
     "end_time": "2018-08-19T06:56:05.999301Z",
     "start_time": "2018-08-19T06:56:05.995029Z"
    }
   },
   "outputs": [],
   "source": [
    "def get_pareto_mat(mu, M=5000, Q=2):\n",
    "    N = int(Q*M)\n",
    "    W = np.random.pareto(mu,size=(M,N))\n",
    "    evals, _ = RMT_Util.eigenspectrum(W)\n",
    "    return W, evals"
   ]
  },
  {
   "cell_type": "code",
   "execution_count": null,
   "metadata": {
    "ExecuteTime": {
     "start_time": "2018-08-19T07:32:58.299Z"
    }
   },
   "outputs": [
    {
     "name": "stdout",
     "output_type": "stream",
     "text": [
      "\n"
     ]
    }
   ],
   "source": [
    "alphas = []\n",
    "#mus = [1.5, 1.8, 2.0, 2.2, 2.5, 3, 3.5, 4, 4.5, 5, 5.5, 6]\n",
    "mus = np.sort(3*np.random.random_sample(100)+.5)\n",
    "for mu in tqdm(mus):\n",
    "      \n",
    "    W, evals = get_pareto_mat(mu) \n",
    "    \n",
    "    # skip best_PL distributional tests, just do fit\n",
    "    fit = powerlaw.fit(evals, xmax=np.max(evals))\n",
    "    alphas.append(fit.alpha)"
   ]
  },
  {
   "cell_type": "code",
   "execution_count": null,
   "metadata": {
    "ExecuteTime": {
     "end_time": "2018-08-19T07:32:57.100713Z",
     "start_time": "2018-08-19T07:25:05.212Z"
    }
   },
   "outputs": [],
   "source": [
    "small_mu_alphas = []\n",
    "medium_mu_alphas = []\n",
    "A, B =2.5, 3.0\n",
    "\n",
    "for mu in mus:\n",
    "    alpha = 1.0+mu/2.0\n",
    "    small_mu_alphas.append(alpha)\n",
    "    \n",
    "    alpha = A*(mu)-B\n",
    "    medium_mu_alphas.append(alpha)\n"
   ]
  },
  {
   "cell_type": "code",
   "execution_count": null,
   "metadata": {
    "ExecuteTime": {
     "end_time": "2018-08-19T07:32:57.101641Z",
     "start_time": "2018-08-19T07:25:05.966Z"
    }
   },
   "outputs": [],
   "source": [
    "plt.scatter(mus, alphas, marker='.')  \n",
    "plt.plot(mus, small_mu_alphas, color='red')\n",
    "plt.plot(mus, medium_mu_alphas, color='orange')\n",
    "plt.xlabel('$\\mu$')\n",
    "plt.ylabel(r'$\\alpha$')\n",
    "plt.title(r'Powerlaw estimate for $\\alpha$ given $\\mu$ ')"
   ]
  },
  {
   "cell_type": "code",
   "execution_count": null,
   "metadata": {},
   "outputs": [],
   "source": [
    "\n"
   ]
  },
  {
   "cell_type": "code",
   "execution_count": null,
   "metadata": {},
   "outputs": [],
   "source": []
  }
 ],
 "metadata": {
  "kernelspec": {
   "display_name": "Python 3",
   "language": "python",
   "name": "python3"
  },
  "language_info": {
   "codemirror_mode": {
    "name": "ipython",
    "version": 3
   },
   "file_extension": ".py",
   "mimetype": "text/x-python",
   "name": "python",
   "nbconvert_exporter": "python",
   "pygments_lexer": "ipython3",
   "version": "3.6.5"
  },
  "widgets": {
   "state": {
    "728d8f523a6041b693f1a0f9603d1389": {
     "views": [
      {
       "cell_index": 24
      }
     ]
    }
   },
   "version": "1.2.0"
  }
 },
 "nbformat": 4,
 "nbformat_minor": 2
}
