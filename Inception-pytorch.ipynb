{
 "cells": [
  {
   "cell_type": "markdown",
   "metadata": {},
   "source": [
    "# ESD for Pytorch pretrained models\n",
    "http://pytorch.org/docs/master/torchvision/models.html\n",
    "\n",
    "We don't normalize by 1/N for these models ?  IDK why"
   ]
  },
  {
   "cell_type": "code",
   "execution_count": 1,
   "metadata": {
    "ExecuteTime": {
     "end_time": "2018-08-11T05:41:22.358044Z",
     "start_time": "2018-08-11T05:41:19.793649Z"
    }
   },
   "outputs": [
    {
     "name": "stdout",
     "output_type": "stream",
     "text": [
      "importing notebook from RMT_Util.ipynb\n"
     ]
    },
    {
     "name": "stderr",
     "output_type": "stream",
     "text": [
      "/Users/charlesmartin14/anaconda3/lib/python3.6/importlib/_bootstrap.py:219: RuntimeWarning: compiletime version 3.5 of module 'tensorflow.python.framework.fast_tensor_util' does not match runtime version 3.6\n",
      "  return f(*args, **kwds)\n",
      "/Users/charlesmartin14/.local/lib/python3.6/site-packages/h5py/__init__.py:34: FutureWarning: Conversion of the second argument of issubdtype from `float` to `np.floating` is deprecated. In future, it will be treated as `np.float64 == np.dtype(float).type`.\n",
      "  from ._conv import register_converters as _register_converters\n",
      "Using TensorFlow backend.\n"
     ]
    },
    {
     "name": "stdout",
     "output_type": "stream",
     "text": [
      "3.6.5 |Anaconda custom (64-bit)| (default, Apr 26 2018, 08:42:37) \n",
      "[GCC 4.2.1 Compatible Clang 4.0.1 (tags/RELEASE_401/final)]\n",
      "numpy version 1.14.2\n",
      "scipy version 1.0.1\n",
      "tensforflow version 1.5.0-dev20171116\n",
      "keras version 2.1.5\n",
      "sklearn version 0.19.1\n",
      "powerlaw version 1.4.3\n"
     ]
    }
   ],
   "source": [
    "import torch\n",
    "import torchvision.models as models\n",
    "import torchvision.transforms as transforms\n",
    "import torch.nn as nn\n",
    "\n",
    "import numpy as np\n",
    "\n",
    "import sklearn\n",
    "from scipy.linalg import svd\n",
    "import import_ipynb\n",
    "\n",
    "import matplotlib\n",
    "import numpy as np\n",
    "import matplotlib.pyplot as plt\n",
    "%matplotlib inline  \n",
    "\n",
    "import powerlaw\n",
    "\n",
    "import RMT_Util"
   ]
  },
  {
   "cell_type": "code",
   "execution_count": 2,
   "metadata": {
    "ExecuteTime": {
     "end_time": "2018-08-11T05:41:22.362648Z",
     "start_time": "2018-08-11T05:41:22.359884Z"
    }
   },
   "outputs": [],
   "source": [
    "import matplotlib.pyplot as plt\n",
    "plt.rcParams['figure.figsize'] = [5,5]"
   ]
  },
  {
   "cell_type": "code",
   "execution_count": 3,
   "metadata": {
    "ExecuteTime": {
     "end_time": "2018-08-11T05:41:25.367347Z",
     "start_time": "2018-08-11T05:41:22.364972Z"
    }
   },
   "outputs": [],
   "source": [
    "pretrained_model = models.inception_v3(pretrained=True)"
   ]
  },
  {
   "cell_type": "code",
   "execution_count": 4,
   "metadata": {
    "ExecuteTime": {
     "end_time": "2018-08-11T05:41:28.874102Z",
     "start_time": "2018-08-11T05:41:25.369334Z"
    }
   },
   "outputs": [
    {
     "name": "stdout",
     "output_type": "stream",
     "text": [
      "226 Linear(in_features=768, out_features=1000, bias=True)\n"
     ]
    },
    {
     "name": "stderr",
     "output_type": "stream",
     "text": [
      "RMT_Util.ipynb:7: RuntimeWarning: divide by zero encountered in true_divide\n",
      "  \"## RMT Util\\n\",\n",
      "RMT_Util.ipynb:7: RuntimeWarning: invalid value encountered in sqrt\n",
      "  \"## RMT Util\\n\",\n"
     ]
    },
    {
     "name": "stdout",
     "output_type": "stream",
     "text": [
      "% spikes outside bulk 0.00\n",
      "% sigma 2.4376\n",
      "(1000, 768) 1.3020833333333333 2.4375627179430803\n",
      "hard rank  (1000, 768)   768  NR rank 768\n"
     ]
    },
    {
     "data": {
      "image/png": "[encoded data removed]",
      "text/plain": [
       "<Figure size 360x360 with 1 Axes>"
      ]
     },
     "metadata": {},
     "output_type": "display_data"
    },
    {
     "name": "stdout",
     "output_type": "stream",
     "text": [
      "302 Linear(in_features=2048, out_features=1000, bias=True)\n",
      "% spikes outside bulk 0.00\n",
      "% sigma 3.2088\n",
      "(1000, 2048) 2.048 3.2087658394503804\n",
      "hard rank  (1000, 2048)   1000  NR rank 1000\n"
     ]
    },
    {
     "data": {
      "image/png": "[encoded data removed]",
      "text/plain": [
       "<Figure size 360x360 with 1 Axes>"
      ]
     },
     "metadata": {},
     "output_type": "display_data"
    }
   ],
   "source": [
    "for im, m in enumerate(pretrained_model.modules()):\n",
    "    if isinstance(m, nn.Linear):\n",
    "        print(im, m)\n",
    "        W = np.array(m.weight.data.clone().cpu())\n",
    "        Q = RMT_Util.get_Q(W)\n",
    "        u, sv, vh = svd(W) \n",
    "        evals = sv*sv\n",
    "\n",
    "        sigma = RMT_Util.plot_ESD_and_fit(model=None,eigenvalues=evals, weightfile=None, layer=None, \n",
    "                            Q=Q, num_spikes=0, sigma=None, color='blue')\n",
    "        \n",
    "        tol = np.max(sv)*np.finfo(np.float32).eps/(2.0*np.sqrt(np.sum(W.shape)+1))\n",
    "        print(W.shape, Q, sigma)\n",
    "        print(\"hard rank \",W.shape,\" \",np.linalg.matrix_rank(W, tol = tol),\" NR rank\",np.linalg.matrix_rank(W, tol = tol))\n",
    "        plt.show()\n",
    "        \n",
    "        "
   ]
  },
  {
   "cell_type": "code",
   "execution_count": 5,
   "metadata": {
    "ExecuteTime": {
     "end_time": "2018-08-11T05:41:32.363645Z",
     "start_time": "2018-08-11T05:41:28.875636Z"
    }
   },
   "outputs": [
    {
     "name": "stderr",
     "output_type": "stream",
     "text": [
      "RMT_Util.ipynb:7: RuntimeWarning: divide by zero encountered in true_divide\n",
      "  \"## RMT Util\\n\",\n",
      "RMT_Util.ipynb:7: RuntimeWarning: invalid value encountered in sqrt\n",
      "  \"## RMT Util\\n\",\n"
     ]
    },
    {
     "name": "stdout",
     "output_type": "stream",
     "text": [
      "% spikes outside bulk 18.15\n",
      "% sigma 1.1992\n",
      "(1000, 768) 1.3020833333333333 1.1992362957249592\n",
      "hard rank  (1000, 768)   768  NR rank 768\n"
     ]
    },
    {
     "name": "stderr",
     "output_type": "stream",
     "text": [
      "Calculating best minimal value for power law fit\n",
      "/Users/charlesmartin14/anaconda3/lib/python3.6/site-packages/powerlaw.py:697: RuntimeWarning: divide by zero encountered in true_divide\n",
      "  (Theoretical_CDF * (1 - Theoretical_CDF))\n",
      "/Users/charlesmartin14/anaconda3/lib/python3.6/site-packages/powerlaw.py:697: RuntimeWarning: invalid value encountered in true_divide\n",
      "  (Theoretical_CDF * (1 - Theoretical_CDF))\n"
     ]
    },
    {
     "name": "stdout",
     "output_type": "stream",
     "text": [
      "power law fits  5.257344309925126\n",
      "(0.4230780644827974, 0.5416872127147054)\n",
      "(0.7000450611832895, 0.48389916382652665)\n",
      "(0.5608695507644348, 0.5748864689046953)\n"
     ]
    },
    {
     "name": "stderr",
     "output_type": "stream",
     "text": [
      "Assuming nested distributions\n"
     ]
    },
    {
     "name": "stdout",
     "output_type": "stream",
     "text": [
      "(0.6027779841700667, 0.5466563946134602)\n"
     ]
    },
    {
     "data": {
      "image/png": "[encoded data removed]",
      "text/plain": [
       "<Figure size 360x360 with 1 Axes>"
      ]
     },
     "metadata": {},
     "output_type": "display_data"
    }
   ],
   "source": [
    "for im, m in enumerate(pretrained_model.modules()):\n",
    "    if im==226:\n",
    "        W = np.array(m.weight.data.clone().cpu())\n",
    "        Q = RMT_Util.get_Q(W)\n",
    "        u, sv, vh = svd(W) \n",
    "        evals = sv*sv\n",
    "        num_spikes = 118\n",
    "\n",
    "        sigma = RMT_Util.plot_ESD_and_fit(model=None,eigenvalues=evals, weightfile=None, layer=None, \n",
    "                            Q=Q, num_spikes=num_spikes, sigma=None, color='blue')\n",
    "        \n",
    "        tol = np.max(sv)*np.finfo(np.float32).eps/(2.0*np.sqrt(np.sum(W.shape)+1))\n",
    "        print(W.shape, Q, sigma)\n",
    "        print(\"hard rank \",W.shape,\" \",np.linalg.matrix_rank(W, tol = tol),\" NR rank\",np.linalg.matrix_rank(W, tol = tol))\n",
    "        plt.title(\"InceptionV3 ESD for $W_{226}$ and Marchenko Pastur fit\")\n",
    "        plt.xlabel(\"Eigenvalues of $\\mathbf{X}=\\mathbf{W}^{T}_{226}\\mathbf{W}_{226}$\")\n",
    "        plt.ylabel(\"Spectral Density\")\n",
    "        \n",
    "        \n",
    "        fit = powerlaw.Fit(evals, xmax=np.max(evals))\n",
    "        print(\"power law fits \",fit.alpha)\n",
    "        print(fit.distribution_compare('truncated_power_law', 'power_law', normalized_ratio=True))\n",
    "        print(fit.distribution_compare('truncated_power_law', 'lognormal', normalized_ratio=True))\n",
    "\n",
    "        print(fit.distribution_compare('truncated_power_law', 'exponential', normalized_ratio=True))\n",
    "        print(fit.loglikelihood_ratio('truncated_power_law', 'stretched_exponential', normalized_ratio=True))"
   ]
  },
  {
   "cell_type": "code",
   "execution_count": 12,
   "metadata": {
    "ExecuteTime": {
     "end_time": "2018-08-11T05:45:31.534740Z",
     "start_time": "2018-08-11T05:45:27.976879Z"
    }
   },
   "outputs": [
    {
     "name": "stderr",
     "output_type": "stream",
     "text": [
      "RMT_Util.ipynb:7: RuntimeWarning: divide by zero encountered in true_divide\n",
      "  \"## RMT Util\\n\",\n",
      "RMT_Util.ipynb:7: RuntimeWarning: invalid value encountered in sqrt\n",
      "  \"## RMT Util\\n\",\n"
     ]
    },
    {
     "name": "stdout",
     "output_type": "stream",
     "text": [
      "% spikes outside bulk 1.99\n",
      "% sigma 1.7038\n",
      "(1000, 768) 1.3020833333333333 1.7038478818486922\n",
      "hard rank  (1000, 768)   768  NR rank 768\n"
     ]
    },
    {
     "data": {
      "image/png": "[encoded data removed]",
      "text/plain": [
       "<Figure size 360x360 with 1 Axes>"
      ]
     },
     "metadata": {},
     "output_type": "display_data"
    },
    {
     "name": "stderr",
     "output_type": "stream",
     "text": [
      "Calculating best minimal value for power law fit\n",
      "/Users/charlesmartin14/anaconda3/lib/python3.6/site-packages/powerlaw.py:697: RuntimeWarning: divide by zero encountered in true_divide\n",
      "  (Theoretical_CDF * (1 - Theoretical_CDF))\n",
      "/Users/charlesmartin14/anaconda3/lib/python3.6/site-packages/powerlaw.py:697: RuntimeWarning: invalid value encountered in true_divide\n",
      "  (Theoretical_CDF * (1 - Theoretical_CDF))\n"
     ]
    },
    {
     "name": "stdout",
     "output_type": "stream",
     "text": [
      "power law fits  5.257344309925126\n",
      "(0.4230780644827974, 0.5416872127147054)\n",
      "(0.7000450611832895, 0.48389916382652665)\n",
      "(0.5608695507644348, 0.5748864689046953)\n",
      "(0.6027779841700667, 0.5466563946134602)\n"
     ]
    },
    {
     "name": "stderr",
     "output_type": "stream",
     "text": [
      "Assuming nested distributions\n",
      "RMT_Util.ipynb:6: RuntimeWarning: divide by zero encountered in true_divide\n",
      "  \"source\": [\n",
      "RMT_Util.ipynb:6: RuntimeWarning: invalid value encountered in sqrt\n",
      "  \"source\": [\n"
     ]
    },
    {
     "name": "stdout",
     "output_type": "stream",
     "text": [
      "% spikes outside bulk 0.00\n",
      "% sigma 1.1332\n"
     ]
    },
    {
     "data": {
      "image/png": "[encoded data removed]",
      "text/plain": [
       "<Figure size 360x360 with 1 Axes>"
      ]
     },
     "metadata": {},
     "output_type": "display_data"
    }
   ],
   "source": [
    "for im, m in enumerate(pretrained_model.modules()):\n",
    "    if im==226:\n",
    "        W = np.array(m.weight.data.clone().cpu())\n",
    "        Q = RMT_Util.get_Q(W)\n",
    "        u, sv, vh = svd(W) \n",
    "        evals = sv*sv\n",
    "        num_spikes = 15\n",
    "\n",
    "        sigma = RMT_Util.plot_ESD_and_fit(model=None,eigenvalues=evals, weightfile=None, layer=None, \n",
    "                            Q=Q, num_spikes=num_spikes, sigma=None, color='blue')\n",
    "        \n",
    "        tol = np.max(sv)*np.finfo(np.float32).eps/(2.0*np.sqrt(np.sum(W.shape)+1))\n",
    "        print(W.shape, Q, sigma)\n",
    "        print(\"hard rank \",W.shape,\" \",np.linalg.matrix_rank(W, tol = tol),\" NR rank\",np.linalg.matrix_rank(W, tol = tol))\n",
    "        plt.title(\"InceptionV3 ESD for $W_{226}$ and Marchenko Pastur fit\")\n",
    "        plt.xlabel(\"Eigenvalues of $\\mathbf{X}=\\mathbf{W}^{T}_{226}\\mathbf{W}_{226}$\")\n",
    "        plt.ylabel(\"Spectral Density\")\n",
    "        plt.savefig(\"img/inception-l1.png\")\n",
    "        plt.show()\n",
    "        \n",
    "        fit = powerlaw.Fit(evals, xmax=np.max(evals))\n",
    "        print(\"power law fits \",fit.alpha)\n",
    "        print(fit.distribution_compare('truncated_power_law', 'power_law', normalized_ratio=True))\n",
    "        print(fit.distribution_compare('truncated_power_law', 'lognormal', normalized_ratio=True))\n",
    "        print(fit.distribution_compare('truncated_power_law', 'exponential', normalized_ratio=True))\n",
    "        print(fit.loglikelihood_ratio('truncated_power_law', 'stretched_exponential', normalized_ratio=True))\n",
    "        \n",
    "        s1 = RMT_Util.fit_mp(evals, Q)\n",
    "        RMT_Util.plot_ESD_and_fit(model=None, eigenvalues=evals, Q=Q,  sigma=s1)\n",
    "        plt.title(\"MP fit to 226, sigma auto-fit\")"
   ]
  },
  {
   "cell_type": "code",
   "execution_count": 13,
   "metadata": {
    "ExecuteTime": {
     "end_time": "2018-08-11T05:46:18.163741Z",
     "start_time": "2018-08-11T05:46:11.418377Z"
    }
   },
   "outputs": [
    {
     "name": "stderr",
     "output_type": "stream",
     "text": [
      "RMT_Util.ipynb:7: RuntimeWarning: divide by zero encountered in true_divide\n",
      "  \"## RMT Util\\n\",\n",
      "RMT_Util.ipynb:7: RuntimeWarning: invalid value encountered in sqrt\n",
      "  \"## RMT Util\\n\",\n"
     ]
    },
    {
     "name": "stdout",
     "output_type": "stream",
     "text": [
      "% spikes outside bulk 11.11\n",
      "% sigma 1.5180\n",
      "(1000, 2048) 2.048 1.5180457032357606\n",
      "hard rank  (1000, 2048)   1000  NR rank 1000\n"
     ]
    },
    {
     "data": {
      "image/png": "[encoded data removed]",
      "text/plain": [
       "<Figure size 360x360 with 1 Axes>"
      ]
     },
     "metadata": {},
     "output_type": "display_data"
    },
    {
     "name": "stderr",
     "output_type": "stream",
     "text": [
      "Calculating best minimal value for power law fit\n",
      "/Users/charlesmartin14/anaconda3/lib/python3.6/site-packages/powerlaw.py:697: RuntimeWarning: divide by zero encountered in true_divide\n",
      "  (Theoretical_CDF * (1 - Theoretical_CDF))\n",
      "/Users/charlesmartin14/anaconda3/lib/python3.6/site-packages/powerlaw.py:697: RuntimeWarning: invalid value encountered in true_divide\n",
      "  (Theoretical_CDF * (1 - Theoretical_CDF))\n"
     ]
    },
    {
     "name": "stdout",
     "output_type": "stream",
     "text": [
      "power law fits  4.484114204931462\n",
      "(0.2530331690106162, 0.7384856463701338)\n",
      "(0.6022841949598984, 0.5469849795982278)\n",
      "(1.0809783598169698, 0.2797067398643075)\n",
      "(0.3008676679548337, 0.7635154058640501)\n"
     ]
    },
    {
     "name": "stderr",
     "output_type": "stream",
     "text": [
      "Assuming nested distributions\n",
      "RMT_Util.ipynb:6: RuntimeWarning: divide by zero encountered in true_divide\n",
      "  \"source\": [\n",
      "RMT_Util.ipynb:6: RuntimeWarning: invalid value encountered in sqrt\n",
      "  \"source\": [\n"
     ]
    },
    {
     "name": "stdout",
     "output_type": "stream",
     "text": [
      "% spikes outside bulk 0.00\n",
      "% sigma 1.0237\n"
     ]
    },
    {
     "data": {
      "image/png": "[encoded data removed]",
      "text/plain": [
       "<Figure size 360x360 with 1 Axes>"
      ]
     },
     "metadata": {},
     "output_type": "display_data"
    }
   ],
   "source": [
    "for im, m in enumerate(pretrained_model.modules()):\n",
    "    if im==302:\n",
    "        W = np.array(m.weight.data.clone().cpu())\n",
    "        Q = RMT_Util.get_Q(W)\n",
    "        u, sv, vh = svd(W) \n",
    "        evals = sv*sv\n",
    "        num_spikes = 100\n",
    "\n",
    "        sigma = RMT_Util.plot_ESD_and_fit(model=None,eigenvalues=evals, weightfile=None, layer=None, \n",
    "                            Q=Q, num_spikes=num_spikes, sigma=None, color='blue')\n",
    "        \n",
    "        tol = np.max(sv)*np.finfo(np.float32).eps/(2.0*np.sqrt(np.sum(W.shape)+1))\n",
    "        print(W.shape, Q, sigma)\n",
    "        print(\"hard rank \",W.shape,\" \",np.linalg.matrix_rank(W, tol = tol),\" NR rank\",np.linalg.matrix_rank(W, tol = tol))\n",
    "        plt.title(\"InceptionV3 ESD for $W_{302}$ and Marchenko Pastur fit\")\n",
    "        plt.xlabel(\"Eigenvalues of $\\mathbf{X}=\\mathbf{W}^{T}_{302}\\mathbf{W}_{302}$\")\n",
    "        plt.ylabel(\"Spectral Density\")\n",
    "        plt.savefig(\"img/inception-l2.png\")\n",
    "        plt.show()\n",
    "        \n",
    "        fit = powerlaw.Fit(evals, xmax=np.max(evals))\n",
    "        print(\"power law fits \",fit.alpha)\n",
    "        print(fit.distribution_compare('truncated_power_law', 'power_law', normalized_ratio=True))\n",
    "        print(fit.distribution_compare('truncated_power_law', 'lognormal', normalized_ratio=True))\n",
    "\n",
    "        print(fit.distribution_compare('truncated_power_law', 'exponential', normalized_ratio=True))\n",
    "        print(fit.loglikelihood_ratio('truncated_power_law', 'stretched_exponential', normalized_ratio=True))\n",
    "        \n",
    "        s1 = RMT_Util.fit_mp(evals, Q)\n",
    "        RMT_Util.plot_ESD_and_fit(model=None, eigenvalues=evals, Q=Q,  sigma=s1)\n",
    "        plt.title(\"MP fit to 226, sigma auto-fit\")"
   ]
  },
  {
   "cell_type": "markdown",
   "metadata": {},
   "source": [
    "### Analysis of Power Law Behavior"
   ]
  },
  {
   "cell_type": "code",
   "execution_count": 8,
   "metadata": {
    "ExecuteTime": {
     "end_time": "2018-08-11T05:41:43.736990Z",
     "start_time": "2018-08-11T05:41:43.085988Z"
    }
   },
   "outputs": [
    {
     "data": {
      "text/plain": [
       "Text(0.5,1,'Log Log Histogram InceptionV3 ESD for $W_{302}$')"
      ]
     },
     "execution_count": 8,
     "metadata": {},
     "output_type": "execute_result"
    },
    {
     "data": {
      "image/png": "[encoded data removed]",
      "text/plain": [
       "<Figure size 360x360 with 1 Axes>"
      ]
     },
     "metadata": {},
     "output_type": "display_data"
    }
   ],
   "source": [
    "bins = np.logspace(np.log10(np.min(evals)), np.log10(np.max(evals)), num=100)\n",
    "plt.hist(evals, bins=bins, density=True, log=True);\n",
    "plt.xscale('log')\n",
    "plt.title(\"Log Log Histogram InceptionV3 ESD for $W_{302}$\")"
   ]
  },
  {
   "cell_type": "code",
   "execution_count": 9,
   "metadata": {
    "ExecuteTime": {
     "end_time": "2018-08-11T05:41:47.169195Z",
     "start_time": "2018-08-11T05:41:43.739069Z"
    }
   },
   "outputs": [
    {
     "name": "stderr",
     "output_type": "stream",
     "text": [
      "Calculating best minimal value for power law fit\n",
      "/Users/charlesmartin14/anaconda3/lib/python3.6/site-packages/powerlaw.py:697: RuntimeWarning: divide by zero encountered in true_divide\n",
      "  (Theoretical_CDF * (1 - Theoretical_CDF))\n",
      "/Users/charlesmartin14/anaconda3/lib/python3.6/site-packages/powerlaw.py:697: RuntimeWarning: invalid value encountered in true_divide\n",
      "  (Theoretical_CDF * (1 - Theoretical_CDF))\n"
     ]
    },
    {
     "name": "stdout",
     "output_type": "stream",
     "text": [
      "power law fits  4.484114204931462\n",
      "(0.2530331690106162, 0.7384856463701338)\n",
      "(0.6022841949598984, 0.5469849795982278)\n",
      "(1.0809783598169698, 0.2797067398643075)\n",
      "(0.3008676679548337, 0.7635154058640501)\n"
     ]
    },
    {
     "name": "stderr",
     "output_type": "stream",
     "text": [
      "Assuming nested distributions\n"
     ]
    }
   ],
   "source": [
    "fit = powerlaw.Fit(evals, xmax=np.max(evals))\n",
    "print(\"power law fits \",fit.alpha)\n",
    "print(fit.distribution_compare('truncated_power_law', 'power_law', normalized_ratio=True))\n",
    "print(fit.distribution_compare('truncated_power_law', 'lognormal', normalized_ratio=True))\n",
    "\n",
    "print(fit.distribution_compare('truncated_power_law', 'exponential', normalized_ratio=True))\n",
    "print(fit.loglikelihood_ratio('truncated_power_law', 'stretched_exponential', normalized_ratio=True))"
   ]
  },
  {
   "cell_type": "code",
   "execution_count": 10,
   "metadata": {
    "ExecuteTime": {
     "end_time": "2018-08-11T05:41:50.622215Z",
     "start_time": "2018-08-11T05:41:47.170958Z"
    }
   },
   "outputs": [
    {
     "name": "stderr",
     "output_type": "stream",
     "text": [
      "Calculating best minimal value for power law fit\n",
      "/Users/charlesmartin14/anaconda3/lib/python3.6/site-packages/powerlaw.py:697: RuntimeWarning: divide by zero encountered in true_divide\n",
      "  (Theoretical_CDF * (1 - Theoretical_CDF))\n",
      "/Users/charlesmartin14/anaconda3/lib/python3.6/site-packages/powerlaw.py:697: RuntimeWarning: invalid value encountered in true_divide\n",
      "  (Theoretical_CDF * (1 - Theoretical_CDF))\n"
     ]
    },
    {
     "data": {
      "text/plain": [
       "4.484114204931462"
      ]
     },
     "execution_count": 10,
     "metadata": {},
     "output_type": "execute_result"
    },
    {
     "data": {
      "image/png": "[encoded data removed]",
      "text/plain": [
       "<Figure size 360x360 with 1 Axes>"
      ]
     },
     "metadata": {},
     "output_type": "display_data"
    }
   ],
   "source": [
    "xmax = np.max(evals)\n",
    "fit = powerlaw.Fit(evals, xmax=xmax)\n",
    "fig2 = fit.plot_pdf(color='b', linewidth=2)\n",
    "fit.power_law.plot_pdf(color='b', linestyle='--', ax=fig2)\n",
    "fit.alpha"
   ]
  },
  {
   "cell_type": "code",
   "execution_count": 11,
   "metadata": {
    "ExecuteTime": {
     "end_time": "2018-08-11T05:41:50.629663Z",
     "start_time": "2018-08-11T05:41:50.625018Z"
    }
   },
   "outputs": [
    {
     "data": {
      "text/plain": [
       "{'exponential': powerlaw.Exponential,\n",
       " 'lognormal': powerlaw.Lognormal,\n",
       " 'lognormal_positive': powerlaw.Lognormal_Positive,\n",
       " 'power_law': powerlaw.Power_Law,\n",
       " 'stretched_exponential': powerlaw.Stretched_Exponential,\n",
       " 'truncated_power_law': powerlaw.Truncated_Power_Law}"
      ]
     },
     "execution_count": 11,
     "metadata": {},
     "output_type": "execute_result"
    }
   ],
   "source": [
    "fit.supported_distributions"
   ]
  },
  {
   "cell_type": "markdown",
   "metadata": {},
   "source": [
    "### Automated Fits"
   ]
  },
  {
   "cell_type": "code",
   "execution_count": null,
   "metadata": {},
   "outputs": [],
   "source": []
  }
 ],
 "metadata": {
  "kernelspec": {
   "display_name": "Python 3",
   "language": "python",
   "name": "python3"
  },
  "language_info": {
   "codemirror_mode": {
    "name": "ipython",
    "version": 3
   },
   "file_extension": ".py",
   "mimetype": "text/x-python",
   "name": "python",
   "nbconvert_exporter": "python",
   "pygments_lexer": "ipython3",
   "version": "3.6.5"
  }
 },
 "nbformat": 4,
 "nbformat_minor": 2
}
