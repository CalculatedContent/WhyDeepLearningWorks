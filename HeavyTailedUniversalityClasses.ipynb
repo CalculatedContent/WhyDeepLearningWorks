{
 "cells": [
  {
   "cell_type": "markdown",
   "metadata": {},
   "source": [
    "# Heavy Tailed Universality Classes\n",
    "\n",
    "Here we demonstrate how the Heavy Tailed / Power Law Universality Classes work for correlation matrices for our layer weight matrices\n",
    "\n",
    "$$\\mathbf{X}=\\mathbf{W}^{T}{W}$$\n",
    "\n",
    "Suppose $\\mathbf{W}$ is a random matrix, we choose the matrix elements $W_{i,j}=x$ from a power law (i.e. Pareto) distibution, such that \n",
    "\n",
    "$$p(W_{i,j})=p(x)\\sim\\dfrac{1}{x^{1+\\mu}},\\;\\;\\mu>0$$\n",
    "\n",
    "We would like to understand how the eigenvalues $\\lambda$ of the correlation matrix , $\\mathbf{X}\\mathbf{v}=\\lambda\\mathbf{x}$, behave for different (classes of ) $\\mu$. \n",
    "\n",
    "More specifically, we care about the Empirical Spectral Density $p_{N}(\\lambda)$--our finite sample $N$ of the theoretically infinite, or asympotic $(N\\rightarrow\\infty)$, ESD $p(\\lambda)$.\n",
    "\n",
    "So let's first define these classes.\n",
    "\n",
    "###  Power Law Distributions\n",
    "\n",
    " We use Power Laws to model the asympotic behavior of the tails of $p_{N}(x)$.  Although, to be precise, we have fairly small weight matrices, with  $N\\sim\\mathcal{}(100)$, so we may (also) be using the _central part_ of a Power Law $p(x)$ to describe the finite _tail_ $\\lambda_{min}<\\lambda\\le\\lambda_{max}$ of our ESD $p_{N}(\\lambda)$\n",
    " \n",
    "#### Heavy Tailed, Fat Tailed, and Truncated Power Law distributions\n",
    "\n",
    "We define a _Heavy Tailed_ distribution $p(x)$ as one which the one of more power moments ( variance, skew, kurtosis, etc.) is not finite.  \n",
    "\n",
    "Note:  sometimes (i.e. in physics) we only call $p(x)$ Heavy Tailed when the variance is infinite, and we say $p(x)$ is _Fat Tailed_ when the skew or kurtosis is infinite.  Some fat tailed distributions display power law behavior / decay in the tail but not everywhere.\n",
    "\n",
    "_Heavy_ and/or _Fat Tailed_  distributions have a special place in Random Matrix Theory with the Four Moment Theorem of Tau:\n",
    "\n",
    "https://terrytao.wordpress.com/tag/four-moment-theorem/\n",
    "\n",
    "Here, distinguish between 3 classes\n",
    "\n",
    "- $\\mu<2$, $p_{N}(x)$ is a _Heavy Tailed_ (in the physics sense) a Power Law (PL) distribution.  It has infinite variance (lacks a finite second moment).  This also covers the class of $\\alpha$-stable Levy distributions.  \n",
    "\n",
    "\n",
    "- $2<\\mu<4$,  $p_{N}(x)$ is a _Heavy_ or  _Fat Tailed_ Power Law distribution, having infinite fourth moment.  \n",
    "\n",
    "  If we do an empirical fit, we may expect to observe these Fat Tails as a Trunctaed Power Law (TPL) because we modeling our empirical ESD with the central part of the Power Law distribution\n",
    "   \n",
    "\n",
    "-  $\\mu>4$,  $p_{N}(x)$ has finite 4th moment.  \n",
    "\n",
    "\n",
    "### Emprical Spectral Density (ESD) $p(\\lambda)$\n",
    "\n",
    "For each of the ranges of $\\mu$, the ESD $\\rho(\\lambda)$ displays different, Universal behavior for _Heavy Tailed_ matrices $\\mathbf{W}(\\mu)$\n",
    "\n",
    "Compute the eigenvalues $\\lambda$ of $\\mathbf{X}$, \n",
    "\n",
    "$$\\mathbf{X}\\mathbf{v}=\\lambda\\mathbf{x}$$\n",
    "\n",
    "and form a histogram representing the Emprical Spectral Density (ESD) $p(\\lambda)$\n",
    "\n",
    "For any finite Heavy Tailed matrix $\\mathbf{W}(\\mu)$, defined above, the ESD is also heavy tailed, and be modeled as with Power Law (or Truncated Power Law)\n",
    "\n",
    "$$p(\\lambda)\\sim\\dfrac{1}{\\lambda^{\\alpha}}$$\n",
    "\n",
    "either for the tail of the ESD, and/or the entire shape of the ESD curve.\n",
    "\n",
    "\n",
    "#### Heavy Tailed Power Laws $\\mu<2$\n",
    "\n",
    "For small mu, we have $\\alpha=1+\\mu/2$, such that the ESD behaves like a Power Law\n",
    "\n",
    " $$\\rho(\\lambda)\\sim\\dfrac{1}{\\lambda^{1+\\mu/2}}$$\n",
    "\n",
    "\n",
    "#### Fat Tailed Power Laws $2<\\mu<4$\n",
    "\n",
    "When $p(x)$ is a _Fat Tailed_ Power Law, the ESD has the same relation, but with very large _Finite Size Effects_.  For our small matrices, we still have the linear relation between $\\alpha$ and $\\mu$, of the form\n",
    "\n",
    " $$\\rho(\\lambda)\\sim\\dfrac{1}{\\lambda^{A\\mu+B}}$$\n",
    " \n",
    "We can determine the constants $A, B$ with linear regression (for any specific $N,M$, shown below)\n",
    " \n",
    "#### Marchenk Pastur + Power Law Tail $4<\\mu$\n",
    "\n",
    "In this case, the ESD resembles the more familir Marchenko Pastur result from Random Matrix Theory, but with a Power Law Tail (as opposed to Tracy Widom statistics at the MP bulk edge)\n",
    "\n",
    " $$p_{N}(\\lambda)\\sim\\rho_{mp}(\\lambda)+\\rho_{PL}(\\lambda)$$\n",
    " \n",
    "That is, now the _Finite Size Effects_ arise only only the tail, causing the _Bulk Decay_\n",
    "\n",
    "#### Boundary Cases $\\mu=2, 4$   \n",
    "\n",
    "There are boundary cases for $\\mu=2$ and $\\mu=4$ which are interesting but I do not discuss here because it would be very difficult to observe these results for small matrices.\n",
    "\n",
    "#### PowerLaw fitting code\n",
    "\n",
    "The currently a\n",
    "\n",
    "https://github.com/jeffalstott/powerlaw\n",
    "\n",
    "\n",
    "#### References\n",
    "\n",
    "The problem was discussed by Soshnikov.  Later, these results were extended, to $0<\\mu<4$, by Biroli et al., with heuristic arguments and numerical simulations:  https://arxiv.org/abs/cond-mat/0609070\n",
    "\n",
    "and also see page 27\n",
    "http://www-syscom.univ-mlv.fr/~najim/gdr/bouchaud.pdf\n",
    "\n",
    "It was proven rigorously  Auffinger et al. https://arxiv.org/pdf/0811.1587.pdf\n",
    "\n",
    "(see also https://www.uni-ulm.de/fileadmin/website_uni_ulm/mawi.inst.050/people/stelzer/DavisPfaffelStelzer2013.pdf)\n",
    "\n",
    "But I am unaware of any discussion of the difference in finite size effects for $\\mu<2$ vs $2<\\mu<4$\n",
    "\n",
    "We summarize the basic results and provide numerical simulations to help understand this\n",
    "\n"
   ]
  },
  {
   "cell_type": "code",
   "execution_count": 1,
   "metadata": {
    "ExecuteTime": {
     "end_time": "2018-08-26T02:43:24.044726Z",
     "start_time": "2018-08-26T02:43:22.159569Z"
    }
   },
   "outputs": [
    {
     "name": "stderr",
     "output_type": "stream",
     "text": [
      "/Users/charlesmartin14/anaconda3/lib/python3.6/importlib/_bootstrap.py:219: RuntimeWarning: compiletime version 3.5 of module 'tensorflow.python.framework.fast_tensor_util' does not match runtime version 3.6\n",
      "  return f(*args, **kwds)\n",
      "/Users/charlesmartin14/.local/lib/python3.6/site-packages/h5py/__init__.py:34: FutureWarning: Conversion of the second argument of issubdtype from `float` to `np.floating` is deprecated. In future, it will be treated as `np.float64 == np.dtype(float).type`.\n",
      "  from ._conv import register_converters as _register_converters\n"
     ]
    },
    {
     "name": "stdout",
     "output_type": "stream",
     "text": [
      "importing notebook from RMT_Util.ipynb\n"
     ]
    },
    {
     "name": "stderr",
     "output_type": "stream",
     "text": [
      "Using TensorFlow backend.\n"
     ]
    },
    {
     "name": "stdout",
     "output_type": "stream",
     "text": [
      "3.6.5 |Anaconda custom (64-bit)| (default, Apr 26 2018, 08:42:37) \n",
      "[GCC 4.2.1 Compatible Clang 4.0.1 (tags/RELEASE_401/final)]\n",
      "numpy version 1.14.2\n",
      "scipy version 1.0.1\n",
      "tensforflow version 1.5.0-dev20171116\n",
      "keras version 2.1.5\n",
      "sklearn version 0.19.1\n",
      "powerlaw version 1.4.3\n",
      "0.19.1\n"
     ]
    }
   ],
   "source": [
    "import numpy as np\n",
    "import tensorflow as tf\n",
    "import pickle, time\n",
    "from copy import deepcopy\n",
    "from shutil import copy\n",
    "from tqdm import tqdm_notebook as tqdm\n",
    "import pandas as pd\n",
    "\n",
    "import matplotlib\n",
    "import matplotlib.pyplot as plt\n",
    "%matplotlib inline\n",
    "\n",
    "import import_ipynb\n",
    "import RMT_Util\n",
    "import powerlaw\n",
    "\n",
    "import sklearn\n",
    "from sklearn.decomposition import TruncatedSVD\n",
    "from sklearn.random_projection import sparse_random_matrix\n",
    "print(sklearn.__version__)"
   ]
  },
  {
   "cell_type": "markdown",
   "metadata": {},
   "source": [
    "# Structure of Notebook\n",
    "\n",
    "  ## 1.  ESD and Power Law fits for  each $\\mu$ class\n",
    "  ## 2. Overlap ESD for $\\mu=1$ and $\\mu=3$  and compare  \n",
    "  ## 3. Test form of entire ESD $\\rho_{N}(\\lambda)\\sim\\dfrac{1}{\\lambda^{A+B\\mu}}$ for $\\mu<4$"
   ]
  },
  {
   "cell_type": "markdown",
   "metadata": {
    "ExecuteTime": {
     "end_time": "2018-08-26T01:06:01.878551Z",
     "start_time": "2018-08-26T01:06:01.875506Z"
    }
   },
   "source": [
    "### ---------------------------------------------------------------------------------------------------------------------"
   ]
  },
  {
   "cell_type": "markdown",
   "metadata": {
    "ExecuteTime": {
     "end_time": "2018-08-26T01:05:47.128492Z",
     "start_time": "2018-08-26T01:05:47.125550Z"
    }
   },
   "source": [
    "## 1. Visualizing Power Law Disributions, and Matrix ESDs, for each class of $\\mu$\n"
   ]
  },
  {
   "cell_type": "markdown",
   "metadata": {},
   "source": [
    "### $\\mu<2$   Pareto / Power Law Distributions\n",
    "\n",
    "Notice:\n",
    "- log-log plots are farily linear past after $x_{max}\\sim 1$ value\n",
    "- as $\\mu$ decreases, the tail fills out."
   ]
  },
  {
   "cell_type": "code",
   "execution_count": 2,
   "metadata": {
    "ExecuteTime": {
     "end_time": "2018-08-26T02:43:25.084415Z",
     "start_time": "2018-08-26T02:43:24.046314Z"
    }
   },
   "outputs": [
    {
     "data": {
      "image/png": "[encoded data removed]",
      "text/plain": [
       "<Figure size 432x288 with 1 Axes>"
      ]
     },
     "metadata": {},
     "output_type": "display_data"
    }
   ],
   "source": [
    "mu=1.2 # Blue\n",
    "w = np.random.pareto(mu,size=10000)\n",
    "bins = np.logspace(np.log10(np.min(w)), np.log10(np.max(w)), num=100)\n",
    "plt.hist(w, bins=bins, density=True, log=True, color='blue', alpha=0.5);\n",
    "plt.xscale('log')\n",
    "\n",
    "mu=0.8 # Red\n",
    "w = np.random.pareto(mu,size=10000)\n",
    "bins = np.logspace(np.log10(np.min(w)), np.log10(np.max(w)), num=100)\n",
    "plt.hist(w, bins=bins, density=True, log=True, color='red', alpha=0.25);\n",
    "plt.xscale('log')\n",
    "\n",
    "mu=0.4  # Yellow\n",
    "w = np.random.pareto(mu,size=10000)\n",
    "bins = np.logspace(np.log10(np.min(w)), np.log10(np.max(w)), num=100)\n",
    "plt.hist(w, bins=bins, density=True, log=True, color='yellow', alpha=0.25);\n",
    "plt.xscale('log')\n",
    "plt.show()"
   ]
  },
  {
   "cell_type": "markdown",
   "metadata": {
    "ExecuteTime": {
     "end_time": "2018-08-26T00:57:06.489748Z",
     "start_time": "2018-08-26T00:57:06.443510Z"
    }
   },
   "source": [
    "## ESDs $\\rho_{N}(\\lambda)$ for  Heavy Tailed Matrices, $\\mu<2$\n",
    "\n",
    "### Log-Log Histogram plot and Power Law Fits"
   ]
  },
  {
   "cell_type": "markdown",
   "metadata": {},
   "source": [
    "###  ESD for $\\mu=0.4$\n",
    "\n",
    "$(N,M=1000,300)$  \n",
    "\n",
    "Notice tail extends way into $\\lambda_{max}\\sim 10^{25}$ and remains linear the entire time"
   ]
  },
  {
   "cell_type": "code",
   "execution_count": 3,
   "metadata": {
    "ExecuteTime": {
     "end_time": "2018-08-26T02:43:25.743135Z",
     "start_time": "2018-08-26T02:43:25.086558Z"
    }
   },
   "outputs": [
    {
     "data": {
      "image/png": "[encoded data removed]",
      "text/plain": [
       "<Figure size 432x288 with 1 Axes>"
      ]
     },
     "metadata": {},
     "output_type": "display_data"
    }
   ],
   "source": [
    "mu=0.4\n",
    "W = np.random.pareto(mu,size=(300,1000))\n",
    "Q = np.max(W.shape)/np.min(W.shape)\n",
    "evals, _ = RMT_Util.eigenspectrum(W)\n",
    "bins = np.logspace(np.log10(np.min(evals)), np.log10(np.max(evals)), num=100)\n",
    "plt.hist(evals, bins=bins, density=True, log=True, color='blue', alpha=0.25);\n",
    "plt.xscale('log')\n",
    "plt.title(r'$\\rho(\\lambda)$  $\\mu={}$'.format(mu))\n",
    "plt.show()"
   ]
  },
  {
   "cell_type": "markdown",
   "metadata": {},
   "source": [
    "#### PowerLaw fit  $\\mu=0.4$  too small\n",
    "\n",
    "The PowerLaw method does not work well here..it over-estimates $\\alpha$, as expected, and it mis-identifies the distribution as a Truncated power law.\n"
   ]
  },
  {
   "cell_type": "code",
   "execution_count": 4,
   "metadata": {
    "ExecuteTime": {
     "end_time": "2018-08-26T02:43:26.631669Z",
     "start_time": "2018-08-26T02:43:25.745378Z"
    }
   },
   "outputs": [
    {
     "name": "stderr",
     "output_type": "stream",
     "text": [
      "Calculating best minimal value for power law fit\n",
      "/Users/charlesmartin14/anaconda3/lib/python3.6/site-packages/powerlaw.py:697: RuntimeWarning: divide by zero encountered in true_divide\n",
      "  (Theoretical_CDF * (1 - Theoretical_CDF))\n",
      "/Users/charlesmartin14/anaconda3/lib/python3.6/site-packages/powerlaw.py:697: RuntimeWarning: invalid value encountered in true_divide\n",
      "  (Theoretical_CDF * (1 - Theoretical_CDF))\n",
      "Assuming nested distributions\n"
     ]
    },
    {
     "name": "stdout",
     "output_type": "stream",
     "text": [
      "alpha 1.18613, D 0.0488605, best_pl  PL\n"
     ]
    }
   ],
   "source": [
    "alpha, D, best_pl = RMT_Util.fit_powerlaw(evals)\n",
    "print(\"alpha {:3g}, D {:3g}, best_pl  {}\".format(alpha, D, best_pl))"
   ]
  },
  {
   "cell_type": "markdown",
   "metadata": {},
   "source": [
    "### ESD $\\rho_{N}(\\lambda), \\; \\mu=1.2$\n",
    "\n",
    "The tail remains fat but only extends to $\\lambda_{max}\\sim 10^6$ and the log-log plot is linear\n"
   ]
  },
  {
   "cell_type": "code",
   "execution_count": 5,
   "metadata": {
    "ExecuteTime": {
     "end_time": "2018-08-26T02:43:27.497777Z",
     "start_time": "2018-08-26T02:43:26.634120Z"
    }
   },
   "outputs": [
    {
     "data": {
      "image/png": "[encoded data removed]",
      "text/plain": [
       "<Figure size 432x288 with 1 Axes>"
      ]
     },
     "metadata": {},
     "output_type": "display_data"
    }
   ],
   "source": [
    "mu=1.2\n",
    "W = np.random.pareto(mu,size=(300,1000))\n",
    "Q = np.max(W.shape)/np.min(W.shape)\n",
    "evals, _ = RMT_Util.eigenspectrum(W)\n",
    "bins = np.logspace(np.log10(np.min(evals)), np.log10(np.max(evals)), num=100)\n",
    "plt.hist(evals, bins=bins, density=True, log=True, color='blue', alpha=0.25);\n",
    "plt.xscale('log')\n",
    "plt.title(r'$\\rho(\\lambda)$  $\\mu={}$'.format(mu))\n",
    "plt.show()"
   ]
  },
  {
   "cell_type": "markdown",
   "metadata": {
    "ExecuteTime": {
     "end_time": "2018-08-19T05:25:25.551331Z",
     "start_time": "2018-08-19T05:25:25.548134Z"
    }
   },
   "source": [
    "#### Power Law fit:  much better\n",
    "\n",
    "For small $\\mu$, the PowerLaw method consistantly returns a best fit to be Truncated Power Law (TPL)\n"
   ]
  },
  {
   "cell_type": "code",
   "execution_count": 6,
   "metadata": {
    "ExecuteTime": {
     "end_time": "2018-08-26T02:43:28.194501Z",
     "start_time": "2018-08-26T02:43:27.499441Z"
    }
   },
   "outputs": [
    {
     "name": "stderr",
     "output_type": "stream",
     "text": [
      "Calculating best minimal value for power law fit\n",
      "/Users/charlesmartin14/anaconda3/lib/python3.6/site-packages/powerlaw.py:697: RuntimeWarning: divide by zero encountered in true_divide\n",
      "  (Theoretical_CDF * (1 - Theoretical_CDF))\n",
      "/Users/charlesmartin14/anaconda3/lib/python3.6/site-packages/powerlaw.py:697: RuntimeWarning: invalid value encountered in true_divide\n",
      "  (Theoretical_CDF * (1 - Theoretical_CDF))\n"
     ]
    },
    {
     "name": "stdout",
     "output_type": "stream",
     "text": [
      "alpha 1.50478, D 0.0619534, best_pl  TPL\n"
     ]
    },
    {
     "name": "stderr",
     "output_type": "stream",
     "text": [
      "Assuming nested distributions\n"
     ]
    }
   ],
   "source": [
    "alpha, D, best_pl = RMT_Util.fit_powerlaw(evals)\n",
    "print(\"alpha {:3g}, D {:3g}, best_pl  {}\".format(alpha, D, best_pl))"
   ]
  },
  {
   "cell_type": "code",
   "execution_count": 7,
   "metadata": {
    "ExecuteTime": {
     "end_time": "2018-08-26T02:43:28.846158Z",
     "start_time": "2018-08-26T02:43:28.196662Z"
    }
   },
   "outputs": [
    {
     "name": "stderr",
     "output_type": "stream",
     "text": [
      "Calculating best minimal value for power law fit\n",
      "/Users/charlesmartin14/anaconda3/lib/python3.6/site-packages/powerlaw.py:697: RuntimeWarning: divide by zero encountered in true_divide\n",
      "  (Theoretical_CDF * (1 - Theoretical_CDF))\n",
      "/Users/charlesmartin14/anaconda3/lib/python3.6/site-packages/powerlaw.py:697: RuntimeWarning: invalid value encountered in true_divide\n",
      "  (Theoretical_CDF * (1 - Theoretical_CDF))\n",
      "Assuming nested distributions\n"
     ]
    },
    {
     "data": {
      "text/plain": [
       "(1.8212004246037048, 0.004191938581586174)"
      ]
     },
     "execution_count": 7,
     "metadata": {},
     "output_type": "execute_result"
    }
   ],
   "source": [
    "fit = powerlaw.Fit(evals, xmax=np.max(evals))\n",
    "R, p = fit.distribution_compare('truncated_power_law', 'power_law', normalized_ratio=True)\n",
    "R, p"
   ]
  },
  {
   "cell_type": "code",
   "execution_count": 8,
   "metadata": {
    "ExecuteTime": {
     "end_time": "2018-08-26T02:43:29.417972Z",
     "start_time": "2018-08-26T02:43:28.847801Z"
    }
   },
   "outputs": [
    {
     "data": {
      "image/png": "[encoded data removed]",
      "text/plain": [
       "<Figure size 432x288 with 1 Axes>"
      ]
     },
     "metadata": {},
     "output_type": "display_data"
    }
   ],
   "source": [
    "fig2 = fit.plot_pdf(color='b', linewidth=2)\n",
    "fit.power_law.plot_pdf(color='b', linestyle='--', ax=fig2)\n",
    "fit.plot_ccdf(color='r', linewidth=2, ax=fig2)\n",
    "fit.power_law.plot_ccdf(color='r', linestyle='--', ax=fig2)\n",
    "plt.title(r'fit of $\\mu=1.2$ ESD')\n",
    "plt.show()\n"
   ]
  },
  {
   "cell_type": "markdown",
   "metadata": {},
   "source": [
    "## ESDs $\\rho_{N}(\\lambda)$ for  Heavy (Fat) Tailed Matrices, $2<\\mu<4$"
   ]
  },
  {
   "cell_type": "markdown",
   "metadata": {},
   "source": [
    "### Notice\n",
    "- The maximum eigenvalue $\\lambda_{max}\\sim\\mathcal{O}(10^2)$\n",
    "\n",
    "- The log-log plot is nearly linear, but noisy\n",
    "\n",
    "- The eigenvalue density is sparse for large $\\lambda$\n",
    "\n",
    "- and the tail drops off faster than linear\n",
    "\n",
    "- The PowerLaw method consistantly returns a best fit to be Power Law (PL)\n",
    "\n"
   ]
  },
  {
   "cell_type": "markdown",
   "metadata": {
    "ExecuteTime": {
     "end_time": "2018-08-26T00:59:15.543756Z",
     "start_time": "2018-08-26T00:59:15.539988Z"
    }
   },
   "source": [
    "### ESD $\\rho_{N}(\\lambda), \\; \\mu=2.5$\n"
   ]
  },
  {
   "cell_type": "code",
   "execution_count": 9,
   "metadata": {
    "ExecuteTime": {
     "end_time": "2018-08-26T02:43:31.154417Z",
     "start_time": "2018-08-26T02:43:29.419857Z"
    }
   },
   "outputs": [
    {
     "data": {
      "image/png": "[encoded data removed]",
      "text/plain": [
       "<Figure size 432x288 with 1 Axes>"
      ]
     },
     "metadata": {},
     "output_type": "display_data"
    },
    {
     "name": "stderr",
     "output_type": "stream",
     "text": [
      "Calculating best minimal value for power law fit\n",
      "/Users/charlesmartin14/anaconda3/lib/python3.6/site-packages/powerlaw.py:697: RuntimeWarning: divide by zero encountered in true_divide\n",
      "  (Theoretical_CDF * (1 - Theoretical_CDF))\n",
      "/Users/charlesmartin14/anaconda3/lib/python3.6/site-packages/powerlaw.py:697: RuntimeWarning: invalid value encountered in true_divide\n",
      "  (Theoretical_CDF * (1 - Theoretical_CDF))\n",
      "Assuming nested distributions\n",
      "/Users/charlesmartin14/anaconda3/lib/python3.6/site-packages/powerlaw.py:1602: RuntimeWarning: invalid value encountered in true_divide\n",
      "  CDF = CDF/norm\n",
      "/Users/charlesmartin14/anaconda3/lib/python3.6/site-packages/numpy/core/_methods.py:29: RuntimeWarning: invalid value encountered in reduce\n",
      "  return umr_minimum(a, axis, None, out, keepdims)\n",
      "'nan' in fit cumulative distribution values.\n",
      "Likely underflow or overflow error: the optimal fit for this distribution gives values that are so extreme that we lack the numerical precision to calculate them.\n",
      "/Users/charlesmartin14/anaconda3/lib/python3.6/site-packages/numpy/core/_methods.py:26: RuntimeWarning: invalid value encountered in reduce\n",
      "  return umr_maximum(a, axis, None, out, keepdims)\n"
     ]
    },
    {
     "name": "stdout",
     "output_type": "stream",
     "text": [
      "alpha 2.77178, D 0.0392688, best_pl  PL\n"
     ]
    },
    {
     "data": {
      "image/png": "[encoded data removed]",
      "text/plain": [
       "<Figure size 432x288 with 1 Axes>"
      ]
     },
     "metadata": {},
     "output_type": "display_data"
    }
   ],
   "source": [
    "mu=2.5\n",
    "W = np.random.pareto(mu,size=(300,1000))\n",
    "Q = np.max(W.shape)/np.min(W.shape)\n",
    "evals, _ = RMT_Util.eigenspectrum(W)\n",
    "bins = np.logspace(np.log10(np.min(evals)), np.log10(np.max(evals)), num=100)\n",
    "plt.hist(evals, bins=bins, density=True, log=True, color='blue', alpha=0.25);\n",
    "plt.xscale('log')\n",
    "plt.title(r'$\\rho(\\lambda)$  $\\mu={}$'.format(mu))\n",
    "plt.show()\n",
    "\n",
    "RMT_Util.fit_and_plot_powerlaw(evals)"
   ]
  },
  {
   "cell_type": "markdown",
   "metadata": {
    "ExecuteTime": {
     "end_time": "2018-08-26T01:00:39.123181Z",
     "start_time": "2018-08-26T01:00:39.121049Z"
    }
   },
   "source": [
    "### ESD $\\rho_{N}(\\lambda), \\; \\mu=3.5$\n"
   ]
  },
  {
   "cell_type": "code",
   "execution_count": 10,
   "metadata": {
    "ExecuteTime": {
     "end_time": "2018-08-26T02:43:32.946642Z",
     "start_time": "2018-08-26T02:43:31.156227Z"
    }
   },
   "outputs": [
    {
     "data": {
      "image/png": "[encoded data removed]",
      "text/plain": [
       "<Figure size 432x288 with 1 Axes>"
      ]
     },
     "metadata": {},
     "output_type": "display_data"
    },
    {
     "name": "stderr",
     "output_type": "stream",
     "text": [
      "Calculating best minimal value for power law fit\n",
      "/Users/charlesmartin14/anaconda3/lib/python3.6/site-packages/powerlaw.py:697: RuntimeWarning: divide by zero encountered in true_divide\n",
      "  (Theoretical_CDF * (1 - Theoretical_CDF))\n",
      "/Users/charlesmartin14/anaconda3/lib/python3.6/site-packages/powerlaw.py:697: RuntimeWarning: invalid value encountered in true_divide\n",
      "  (Theoretical_CDF * (1 - Theoretical_CDF))\n",
      "Assuming nested distributions\n",
      "/Users/charlesmartin14/anaconda3/lib/python3.6/site-packages/powerlaw.py:1602: RuntimeWarning: invalid value encountered in true_divide\n",
      "  CDF = CDF/norm\n",
      "/Users/charlesmartin14/anaconda3/lib/python3.6/site-packages/numpy/core/_methods.py:29: RuntimeWarning: invalid value encountered in reduce\n",
      "  return umr_minimum(a, axis, None, out, keepdims)\n",
      "'nan' in fit cumulative distribution values.\n",
      "Likely underflow or overflow error: the optimal fit for this distribution gives values that are so extreme that we lack the numerical precision to calculate them.\n",
      "/Users/charlesmartin14/anaconda3/lib/python3.6/site-packages/numpy/core/_methods.py:26: RuntimeWarning: invalid value encountered in reduce\n",
      "  return umr_maximum(a, axis, None, out, keepdims)\n"
     ]
    },
    {
     "name": "stdout",
     "output_type": "stream",
     "text": [
      "alpha 3.87973, D 0.0721496, best_pl  PL\n"
     ]
    },
    {
     "data": {
      "image/png": "[encoded data removed]",
      "text/plain": [
       "<Figure size 432x288 with 1 Axes>"
      ]
     },
     "metadata": {},
     "output_type": "display_data"
    }
   ],
   "source": [
    "mu=3.5\n",
    "W = np.random.pareto(mu,size=(300,1000))\n",
    "Q = np.max(W.shape)/np.min(W.shape)\n",
    "evals, _ = RMT_Util.eigenspectrum(W)\n",
    "bins = np.logspace(np.log10(np.min(evals)), np.log10(np.max(evals)), num=100)\n",
    "plt.hist(evals, bins=bins, density=True, log=True, color='blue', alpha=0.25);\n",
    "plt.xscale('log')\n",
    "plt.title(r'$\\rho(\\lambda)$  $\\mu={}$'.format(mu))\n",
    "plt.show() \n",
    "\n",
    "RMT_Util.fit_and_plot_powerlaw(evals)\n"
   ]
  },
  {
   "cell_type": "markdown",
   "metadata": {
    "ExecuteTime": {
     "end_time": "2018-08-26T01:01:15.508957Z",
     "start_time": "2018-08-26T01:01:15.506644Z"
    }
   },
   "source": [
    "## ESDs $\\rho_{N}(\\lambda)$ for Heavy (Fat)  Tailed Matrices, $4<\\mu$"
   ]
  },
  {
   "cell_type": "markdown",
   "metadata": {},
   "source": [
    "###  $\\mu=5$\n",
    "\n",
    "- Now the density dies abruptly at $\\lambda_{max}\\sim\\mathcal{0}(1)$\n",
    "- The is some finite-size noise, leading to a spuriously large maximum eigenvalue $\\lambda_{max}\\sim 10^2$\n"
   ]
  },
  {
   "cell_type": "code",
   "execution_count": 11,
   "metadata": {
    "ExecuteTime": {
     "end_time": "2018-08-26T02:43:34.809966Z",
     "start_time": "2018-08-26T02:43:32.948254Z"
    }
   },
   "outputs": [
    {
     "data": {
      "image/png": "[encoded data removed]",
      "text/plain": [
       "<Figure size 432x288 with 1 Axes>"
      ]
     },
     "metadata": {},
     "output_type": "display_data"
    },
    {
     "name": "stderr",
     "output_type": "stream",
     "text": [
      "Calculating best minimal value for power law fit\n",
      "/Users/charlesmartin14/anaconda3/lib/python3.6/site-packages/powerlaw.py:697: RuntimeWarning: divide by zero encountered in true_divide\n",
      "  (Theoretical_CDF * (1 - Theoretical_CDF))\n",
      "/Users/charlesmartin14/anaconda3/lib/python3.6/site-packages/powerlaw.py:697: RuntimeWarning: invalid value encountered in true_divide\n",
      "  (Theoretical_CDF * (1 - Theoretical_CDF))\n",
      "Assuming nested distributions\n",
      "/Users/charlesmartin14/anaconda3/lib/python3.6/site-packages/powerlaw.py:1602: RuntimeWarning: invalid value encountered in true_divide\n",
      "  CDF = CDF/norm\n",
      "/Users/charlesmartin14/anaconda3/lib/python3.6/site-packages/numpy/core/_methods.py:29: RuntimeWarning: invalid value encountered in reduce\n",
      "  return umr_minimum(a, axis, None, out, keepdims)\n",
      "'nan' in fit cumulative distribution values.\n",
      "Likely underflow or overflow error: the optimal fit for this distribution gives values that are so extreme that we lack the numerical precision to calculate them.\n",
      "/Users/charlesmartin14/anaconda3/lib/python3.6/site-packages/numpy/core/_methods.py:26: RuntimeWarning: invalid value encountered in reduce\n",
      "  return umr_maximum(a, axis, None, out, keepdims)\n"
     ]
    },
    {
     "name": "stdout",
     "output_type": "stream",
     "text": [
      "alpha 3.6998, D 0.100543, best_pl  PL\n"
     ]
    },
    {
     "data": {
      "image/png": "[encoded data removed]",
      "text/plain": [
       "<Figure size 432x288 with 1 Axes>"
      ]
     },
     "metadata": {},
     "output_type": "display_data"
    }
   ],
   "source": [
    "mu=5.0\n",
    "W = np.random.pareto(mu,size=(300,1000))\n",
    "Q = np.max(W.shape)/np.min(W.shape)\n",
    "evals, _ = RMT_Util.eigenspectrum(W)\n",
    "bins = np.logspace(np.log10(np.min(evals)), np.log10(np.max(evals)), num=100)\n",
    "plt.hist(evals, bins=bins, density=True, log=True, color='blue', alpha=0.25);\n",
    "plt.xscale('log')\n",
    "plt.title(r'$\\rho(\\lambda)$  $\\mu={}$'.format(mu))\n",
    "plt.show() \n",
    "\n",
    "RMT_Util.fit_and_plot_powerlaw(evals)"
   ]
  },
  {
   "cell_type": "markdown",
   "metadata": {
    "ExecuteTime": {
     "end_time": "2018-08-26T01:06:34.853515Z",
     "start_time": "2018-08-26T01:06:34.851299Z"
    }
   },
   "source": [
    "## ------------------------------------------------------------------------------"
   ]
  },
  {
   "cell_type": "markdown",
   "metadata": {},
   "source": [
    "## 2. Overlay ESDs for  $\\mu=1.0$ and $\\mu=3.0$ to compare how the ESDs decay on a log-log Histogram\n",
    "\n",
    "Here we can really see the difference between the full Power Law ($\\mu=1.0) and decaying ESD ($\\mu=3.0$)"
   ]
  },
  {
   "cell_type": "code",
   "execution_count": 12,
   "metadata": {
    "ExecuteTime": {
     "end_time": "2018-08-26T02:44:14.481386Z",
     "start_time": "2018-08-26T02:43:34.811672Z"
    }
   },
   "outputs": [
    {
     "data": {
      "text/plain": [
       "<matplotlib.legend.Legend at 0x11df84908>"
      ]
     },
     "execution_count": 12,
     "metadata": {},
     "output_type": "execute_result"
    },
    {
     "data": {
      "image/png": "[encoded data removed]",
      "text/plain": [
       "<Figure size 432x288 with 1 Axes>"
      ]
     },
     "metadata": {},
     "output_type": "display_data"
    }
   ],
   "source": [
    "W = np.random.pareto(1.0,size=(3000,9000))\n",
    "W = W/100\n",
    "Q = np.max(W.shape)/np.min(W.shape)\n",
    "evals_small, _ = RMT_Util.eigenspectrum(W)\n",
    "\n",
    "W = np.random.pareto(3.0,size=(3000,9000))\n",
    "W = W\n",
    "Q = np.max(W.shape)/np.min(W.shape)\n",
    "evals_medium, _ = RMT_Util.eigenspectrum(W)\n",
    "\n",
    "bins = np.logspace(np.log10(np.min(evals_small)), np.log10(np.max(evals_small)), num=100)\n",
    "plt.hist(evals_small, bins=bins, density=True, log=True, color='blue', alpha=0.25, label=\"$\\mu=1$\");\n",
    "plt.xscale('log')\n",
    "#plt.show()\n",
    "\n",
    "bins = np.logspace(np.log10(np.min(evals_medium)), np.log10(np.max(evals_medium)), num=100)\n",
    "plt.hist(evals_medium, bins=bins, density=True, log=True, color='green', alpha=0.25, label=\"$\\mu=3$\");\n",
    "plt.xscale('log')\n",
    "plt.title(\"Comparison of Log-log Histogram for different heavy tailed matrix ESDs\")\n",
    "plt.legend()\n",
    "\n",
    "# plt.savefig(\"img/heavy-tailed-log-log-esds.png\")"
   ]
  },
  {
   "cell_type": "code",
   "execution_count": 13,
   "metadata": {
    "ExecuteTime": {
     "end_time": "2018-08-26T02:44:15.214434Z",
     "start_time": "2018-08-26T02:44:14.483256Z"
    }
   },
   "outputs": [
    {
     "data": {
      "text/plain": [
       "<matplotlib.legend.Legend at 0x11e38b278>"
      ]
     },
     "execution_count": 13,
     "metadata": {},
     "output_type": "execute_result"
    },
    {
     "data": {
      "image/png": "[encoded data removed]",
      "text/plain": [
       "<Figure size 432x288 with 1 Axes>"
      ]
     },
     "metadata": {},
     "output_type": "display_data"
    }
   ],
   "source": [
    "bins = np.logspace(np.log10(np.min(evals_medium)), np.log10(np.max(evals_medium)), num=100)\n",
    "plt.hist(evals_medium, bins=bins, density=True, log=True, color='green', alpha=0.25, label=\"$\\mu=3$\");\n",
    "plt.xscale('log')\n",
    "plt.title(\"Log-log Histogram for $\\mu=3$, Zoomed in\")\n",
    "plt.legend()\n",
    "\n",
    "# plt.savefig(\"img/heavy-tailed-log-log-esd-zoomed.png\")"
   ]
  },
  {
   "cell_type": "markdown",
   "metadata": {},
   "source": [
    "## 3. Test form of entire ESD $\\rho_{N}(\\lambda)$\n",
    "\n",
    "### $0<\\mu<2\\;\\;\\;$ Small finite size effects $\\rho_{N}(\\lambda)\\sim\\dfrac{1}{\\lambda^{\\mu+1/2}}$ \n",
    "\n",
    "### $2<\\mu<4\\;\\;\\;$ Large finite size effects $\\rho_{N}(\\lambda)\\sim\\dfrac{1}{\\lambda^{A+B\\mu}}$ \n",
    "\n",
    "\n",
    "This is pretty slow (> 4 hours), but it will let us see how $\\mu$ relates to $\\alpha$ for each Universality Class"
   ]
  },
  {
   "cell_type": "code",
   "execution_count": 14,
   "metadata": {
    "ExecuteTime": {
     "end_time": "2018-08-26T02:44:15.220757Z",
     "start_time": "2018-08-26T02:44:15.216176Z"
    }
   },
   "outputs": [],
   "source": [
    "def get_pareto_mat(mu, M=1000, Q=2):\n",
    "    N = int(Q*M)\n",
    "    W = np.random.pareto(mu,size=(M,N))\n",
    "    evals, _ = RMT_Util.eigenspectrum(W)\n",
    "    return W, evals"
   ]
  },
  {
   "cell_type": "code",
   "execution_count": 16,
   "metadata": {
    "ExecuteTime": {
     "end_time": "2018-08-26T02:54:29.775988Z",
     "start_time": "2018-08-26T02:47:54.691183Z"
    }
   },
   "outputs": [
    {
     "name": "stdout",
     "output_type": "stream",
     "text": [
      "\n"
     ]
    },
    {
     "name": "stderr",
     "output_type": "stream",
     "text": [
      "Calculating best minimal value for power law fit\n",
      "/Users/charlesmartin14/anaconda3/lib/python3.6/site-packages/powerlaw.py:697: RuntimeWarning: divide by zero encountered in true_divide\n",
      "  (Theoretical_CDF * (1 - Theoretical_CDF))\n",
      "/Users/charlesmartin14/anaconda3/lib/python3.6/site-packages/powerlaw.py:697: RuntimeWarning: invalid value encountered in true_divide\n",
      "  (Theoretical_CDF * (1 - Theoretical_CDF))\n",
      "Calculating best minimal value for power law fit\n",
      "Calculating best minimal value for power law fit\n",
      "Calculating best minimal value for power law fit\n",
      "Calculating best minimal value for power law fit\n",
      "Calculating best minimal value for power law fit\n",
      "Calculating best minimal value for power law fit\n",
      "Calculating best minimal value for power law fit\n",
      "Calculating best minimal value for power law fit\n",
      "Calculating best minimal value for power law fit\n",
      "Calculating best minimal value for power law fit\n",
      "Calculating best minimal value for power law fit\n",
      "/Users/charlesmartin14/anaconda3/lib/python3.6/site-packages/powerlaw.py:1175: RuntimeWarning: overflow encountered in double_scalars\n",
      "  return (self.alpha-1) * self.xmin**(self.alpha-1)\n",
      "/Users/charlesmartin14/anaconda3/lib/python3.6/site-packages/powerlaw.py:822: RuntimeWarning: invalid value encountered in multiply\n",
      "  likelihoods = f*C\n",
      "Calculating best minimal value for power law fit\n",
      "Calculating best minimal value for power law fit\n",
      "Calculating best minimal value for power law fit\n",
      "Calculating best minimal value for power law fit\n",
      "Calculating best minimal value for power law fit\n",
      "Calculating best minimal value for power law fit\n",
      "Calculating best minimal value for power law fit\n",
      "Calculating best minimal value for power law fit\n",
      "Calculating best minimal value for power law fit\n",
      "Calculating best minimal value for power law fit\n",
      "Calculating best minimal value for power law fit\n",
      "Calculating best minimal value for power law fit\n",
      "/Users/charlesmartin14/anaconda3/lib/python3.6/site-packages/scipy/optimize/optimize.py:543: RuntimeWarning: invalid value encountered in subtract\n",
      "  numpy.max(numpy.abs(fsim[0] - fsim[1:])) <= fatol):\n",
      "Calculating best minimal value for power law fit\n",
      "Calculating best minimal value for power law fit\n",
      "Calculating best minimal value for power law fit\n",
      "Calculating best minimal value for power law fit\n",
      "Calculating best minimal value for power law fit\n",
      "Calculating best minimal value for power law fit\n",
      "Calculating best minimal value for power law fit\n",
      "Calculating best minimal value for power law fit\n",
      "Calculating best minimal value for power law fit\n",
      "Calculating best minimal value for power law fit\n",
      "Calculating best minimal value for power law fit\n",
      "Calculating best minimal value for power law fit\n",
      "Calculating best minimal value for power law fit\n",
      "Calculating best minimal value for power law fit\n",
      "Calculating best minimal value for power law fit\n",
      "Calculating best minimal value for power law fit\n",
      "Calculating best minimal value for power law fit\n",
      "Calculating best minimal value for power law fit\n",
      "Calculating best minimal value for power law fit\n",
      "Calculating best minimal value for power law fit\n",
      "Calculating best minimal value for power law fit\n",
      "Calculating best minimal value for power law fit\n",
      "Calculating best minimal value for power law fit\n",
      "Calculating best minimal value for power law fit\n",
      "Calculating best minimal value for power law fit\n",
      "Calculating best minimal value for power law fit\n",
      "Calculating best minimal value for power law fit\n",
      "Calculating best minimal value for power law fit\n",
      "Calculating best minimal value for power law fit\n",
      "Calculating best minimal value for power law fit\n",
      "Calculating best minimal value for power law fit\n",
      "Calculating best minimal value for power law fit\n",
      "Calculating best minimal value for power law fit\n",
      "Calculating best minimal value for power law fit\n",
      "Calculating best minimal value for power law fit\n",
      "Calculating best minimal value for power law fit\n",
      "Calculating best minimal value for power law fit\n",
      "Calculating best minimal value for power law fit\n",
      "Calculating best minimal value for power law fit\n",
      "Calculating best minimal value for power law fit\n",
      "Calculating best minimal value for power law fit\n",
      "Calculating best minimal value for power law fit\n",
      "Calculating best minimal value for power law fit\n",
      "Calculating best minimal value for power law fit\n",
      "Calculating best minimal value for power law fit\n",
      "Calculating best minimal value for power law fit\n",
      "Calculating best minimal value for power law fit\n",
      "Calculating best minimal value for power law fit\n",
      "Calculating best minimal value for power law fit\n",
      "Calculating best minimal value for power law fit\n",
      "Calculating best minimal value for power law fit\n",
      "Calculating best minimal value for power law fit\n",
      "Calculating best minimal value for power law fit\n",
      "Calculating best minimal value for power law fit\n",
      "Calculating best minimal value for power law fit\n",
      "Calculating best minimal value for power law fit\n",
      "Calculating best minimal value for power law fit\n",
      "Calculating best minimal value for power law fit\n",
      "Calculating best minimal value for power law fit\n",
      "Calculating best minimal value for power law fit\n",
      "Calculating best minimal value for power law fit\n",
      "Calculating best minimal value for power law fit\n",
      "Calculating best minimal value for power law fit\n",
      "Calculating best minimal value for power law fit\n",
      "Calculating best minimal value for power law fit\n",
      "Calculating best minimal value for power law fit\n",
      "Calculating best minimal value for power law fit\n",
      "Calculating best minimal value for power law fit\n",
      "Calculating best minimal value for power law fit\n",
      "Calculating best minimal value for power law fit\n",
      "Calculating best minimal value for power law fit\n",
      "Calculating best minimal value for power law fit\n",
      "Calculating best minimal value for power law fit\n",
      "Calculating best minimal value for power law fit\n",
      "Calculating best minimal value for power law fit\n",
      "Calculating best minimal value for power law fit\n"
     ]
    },
    {
     "name": "stdout",
     "output_type": "stream",
     "text": [
      "\n"
     ]
    }
   ],
   "source": [
    "alphas = []\n",
    "mus = np.sort(3*np.random.random_sample(100)+.5)\n",
    "for mu in tqdm(mus):\n",
    "      \n",
    "    W, evals = get_pareto_mat(mu) \n",
    "    \n",
    "    # skip best_PL distributional tests, just do fit\n",
    "    fit = powerlaw.Fit(evals, xmax=np.max(evals))\n",
    "    alphas.append(fit.alpha)"
   ]
  },
  {
   "cell_type": "code",
   "execution_count": 74,
   "metadata": {
    "ExecuteTime": {
     "end_time": "2018-08-26T03:03:18.122619Z",
     "start_time": "2018-08-26T03:03:18.118342Z"
    }
   },
   "outputs": [],
   "source": [
    "small_mu_alphas = []\n",
    "A, B = 1.0, 0.5\n",
    "\n",
    "for mu in mus:\n",
    "    alpha = 1.0+0.5*mu\n",
    "    small_mu_alphas.append(alpha)\n"
   ]
  },
  {
   "cell_type": "markdown",
   "metadata": {
    "ExecuteTime": {
     "end_time": "2018-08-26T03:05:58.898402Z",
     "start_time": "2018-08-26T03:05:58.896004Z"
    }
   },
   "source": [
    "### The theoretical fit $\\alpha=1+0.5\\mu$ works best for small $\\mu<1.5$"
   ]
  },
  {
   "cell_type": "code",
   "execution_count": 86,
   "metadata": {
    "ExecuteTime": {
     "end_time": "2018-08-26T03:06:13.006331Z",
     "start_time": "2018-08-26T03:06:12.854607Z"
    }
   },
   "outputs": [
    {
     "data": {
      "text/plain": [
       "<matplotlib.legend.Legend at 0x121842978>"
      ]
     },
     "execution_count": 86,
     "metadata": {},
     "output_type": "execute_result"
    },
    {
     "data": {
      "image/png": "[encoded data removed]",
      "text/plain": [
       "<Figure size 432x288 with 1 Axes>"
      ]
     },
     "metadata": {},
     "output_type": "display_data"
    }
   ],
   "source": [
    "plt.scatter(mus, alphas, marker='.')  \n",
    "plt.plot(mus, small_mu_alphas, color='red', label=r'$\\mu<2:\\;\\alpha=1+0.5\\mu$')\n",
    "plt.xlabel('$\\mu$')\n",
    "plt.ylabel(r'$\\alpha$')\n",
    "plt.title(r'Powerlaw estimate for $\\alpha$ given $\\mu$ ')\n",
    "plt.legend()"
   ]
  },
  {
   "cell_type": "markdown",
   "metadata": {},
   "source": [
    "### Linear Regression fit for both $0<\\mu<2$, which is not great, but looks best for smaller $\\mu$\n",
    "\n",
    "### and for $2<\\mu<3.5$ , where our estimator is most accurate,\n"
   ]
  },
  {
   "cell_type": "code",
   "execution_count": 93,
   "metadata": {
    "ExecuteTime": {
     "end_time": "2018-08-26T03:07:21.402940Z",
     "start_time": "2018-08-26T03:07:21.400294Z"
    }
   },
   "outputs": [],
   "source": [
    "from sklearn import linear_model"
   ]
  },
  {
   "cell_type": "code",
   "execution_count": 154,
   "metadata": {
    "ExecuteTime": {
     "end_time": "2018-08-26T03:15:50.846738Z",
     "start_time": "2018-08-26T03:15:50.838507Z"
    }
   },
   "outputs": [
    {
     "name": "stdout",
     "output_type": "stream",
     "text": [
      "alpha = 0.759mu + 0.752\n"
     ]
    }
   ],
   "source": [
    "x_small = np.array(mus).reshape(-1,1)[0:50]\n",
    "y_small = np.array(alphas).reshape(-1,1)[0:50]\n",
    "\n",
    "regr = linear_model.LinearRegression()\n",
    "regr.fit(x_small,y_small)\n",
    "y_small_pred = regr.predict(x_small)\n",
    "print(\"alpha = {:.3g}mu + {:.3g}\".format(regr.coef_[0][0], regr.intercept_[0]))\n"
   ]
  },
  {
   "cell_type": "code",
   "execution_count": 155,
   "metadata": {
    "ExecuteTime": {
     "end_time": "2018-08-26T03:15:51.044556Z",
     "start_time": "2018-08-26T03:15:51.037335Z"
    }
   },
   "outputs": [
    {
     "name": "stdout",
     "output_type": "stream",
     "text": [
      "alpha = 1.32mu + -0.329\n"
     ]
    }
   ],
   "source": [
    "x_med = np.array(mus).reshape(-1,1)[50:]\n",
    "y_med = np.array(alphas).reshape(-1,1)[50:]\n",
    "\n",
    "regr = linear_model.LinearRegression()\n",
    "regr.fit(x_med,y_med)\n",
    "y_med_pred = regr.predict(x_med)\n",
    "print(\"alpha = {:.3g}mu + {:.3g}\".format(regr.coef_[0][0], regr.intercept_[0]))\n"
   ]
  },
  {
   "cell_type": "code",
   "execution_count": 156,
   "metadata": {
    "ExecuteTime": {
     "end_time": "2018-08-26T03:15:53.810192Z",
     "start_time": "2018-08-26T03:15:53.550539Z"
    }
   },
   "outputs": [
    {
     "data": {
      "text/plain": [
       "<matplotlib.legend.Legend at 0x123717748>"
      ]
     },
     "execution_count": 156,
     "metadata": {},
     "output_type": "execute_result"
    },
    {
     "data": {
      "image/png": "[encoded data removed]",
      "text/plain": [
       "<Figure size 432x288 with 1 Axes>"
      ]
     },
     "metadata": {},
     "output_type": "display_data"
    }
   ],
   "source": [
    "plt.scatter(mus, alphas, marker='.', label=r'$0<\\mu<2$') \n",
    "plt.scatter(x_med, y_med, marker='.',label=r'$2<\\mu<4$')  \n",
    "\n",
    "plt.plot(x_med, y_med_pred, color='green', label=r'Theory $0<\\mu<2$: $\\alpha=1+0.5\\mu$')\n",
    "plt.plot(x_small, y_small_pred, color='teal', label=r'LR fit    $0<\\mu<2$: $\\alpha=0.76+0.75\\mu$')\n",
    "plt.plot(mus, small_mu_alphas, color='red', label=r'LR fit    $2<\\mu<4$:  $\\alpha=1.3-0.3\\mu$')\n",
    "\n",
    "\n",
    "plt.xlabel('$\\mu$')\n",
    "plt.ylabel(r'$\\alpha$')\n",
    "plt.title(r'Powerlaw estimate for $\\alpha$ given $\\mu$ , different classes')\n",
    "plt.legend()"
   ]
  },
  {
   "cell_type": "markdown",
   "metadata": {
    "ExecuteTime": {
     "end_time": "2018-08-19T15:24:31.703131Z",
     "start_time": "2018-08-19T15:24:31.699482Z"
    }
   },
   "source": [
    "### How does $\\rho_{N}(\\lambda)$ depend on  M ?  "
   ]
  },
  {
   "cell_type": "code",
   "execution_count": null,
   "metadata": {
    "ExecuteTime": {
     "start_time": "2018-08-26T03:16:20.360Z"
    }
   },
   "outputs": [],
   "source": [
    "alphas = []\n",
    "mus = np.sort(3*np.random.random_sample(100)+.5)\n",
    "for mu in tqdm(mus):\n",
    "      \n",
    "    W, evals = get_pareto_mat(mu, M=10000) \n",
    "    \n",
    "    # skip best_PL distributional tests, just do fit\n",
    "    fit = powerlaw.Fit(evals, xmax=np.max(evals))\n",
    "    alphas.append(fit.alpha)"
   ]
  },
  {
   "cell_type": "code",
   "execution_count": 117,
   "metadata": {
    "ExecuteTime": {
     "end_time": "2018-08-26T03:11:23.249965Z",
     "start_time": "2018-08-26T03:11:23.110520Z"
    }
   },
   "outputs": [
    {
     "name": "stdout",
     "output_type": "stream",
     "text": [
      "/Users/charlesmartin14/work/WhyDeepLearningWorks\r\n"
     ]
    }
   ],
   "source": [
    "!pwd"
   ]
  },
  {
   "cell_type": "code",
   "execution_count": null,
   "metadata": {},
   "outputs": [],
   "source": []
  }
 ],
 "metadata": {
  "kernelspec": {
   "display_name": "Python 3",
   "language": "python",
   "name": "python3"
  },
  "language_info": {
   "codemirror_mode": {
    "name": "ipython",
    "version": 3
   },
   "file_extension": ".py",
   "mimetype": "text/x-python",
   "name": "python",
   "nbconvert_exporter": "python",
   "pygments_lexer": "ipython3",
   "version": "3.6.5"
  },
  "widgets": {
   "state": {
    "0cb0b8810456413b818c2c0a0d78a7e6": {
     "views": [
      {
       "cell_index": 43
      }
     ]
    },
    "b473a5429a4c4cc68d899de523abf8ae": {
     "views": [
      {
       "cell_index": 33
      }
     ]
    }
   },
   "version": "1.2.0"
  }
 },
 "nbformat": 4,
 "nbformat_minor": 2
}
