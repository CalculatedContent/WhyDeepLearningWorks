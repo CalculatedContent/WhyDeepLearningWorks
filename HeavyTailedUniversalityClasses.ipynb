{
 "cells": [
  {
   "cell_type": "markdown",
   "metadata": {},
   "source": [
    "# Heavy Tailed Universality Classes\n",
    "\n",
    "\n",
    "\n",
    "Here we demonstrate how the Heavy Tailed / Power Law Universality Classes work for correlation matrices for our layer weight matrices\n",
    "\n",
    "$$\\mathbf{X}=\\mathbf{W}^{T}{W}$$\n",
    "\n",
    "Suppose $\\mathbf{W}$ is a random matrix, we choose the matrix elements $W_{i,j}=x$ from a power law (i.e. Pareto) distibution, such that \n",
    "\n",
    "$$p(W_{i,j})=p(x)\\sim\\dfrac{1}{x^{1+\\mu}},\\;\\;\\mu>0$$\n",
    "\n",
    "### Levy and Truncated Levy Power Laws\n",
    "Note: for any finite empirical density $p_{N}(x)$ (a finite sample $N$ of $p(x)$), when\n",
    "\n",
    "- $\\mu<2$, $p_{N}(x)$ remains a Power Law distribution even in the infinite limit $N\\rightarrow\\infty$.  This is a Levy Distribution.\n",
    "\n",
    "\n",
    "- $\\mu<4$, $p_{N}(x)$ is a Power Law distribution for any finite N (i.e. the tails decay very slow), but in the infinite limit $N\\rightarrow\\infty$, the tails $p_{N}(x)$ stop behaving like a Power law.  This is a Trucated Levy Distribution.\n",
    "\n",
    "\n",
    "-  $\\mu>4$, $p_{N}(x)$ has finite 4th moment, and no longer has tails that exhibit Power law decay, even at finite $N$\n",
    "\n",
    "It turns out, the eigenvalues of $\\mathbf{X}$ behave in a similar way\n",
    "\n",
    "### Emprical Spectral Density (ESD) $p(\\lambda)$\n",
    "\n",
    "Compute the eigenvalues $\\lambda$ of $\\mathbf{X}$, \n",
    "\n",
    "$$\\mathbf{X}\\mathbf{v}=\\lambda\\mathbf{x}$$\n",
    "\n",
    "and form a histogram representing the Emprical Spectral Density (ESD) $p(\\lambda)$\n",
    "\n",
    "It turns out, for any finite size matrix $\\mathbf{W}$ (when $\\mu<4$ in particular), we have\n",
    "\n",
    "$$p(\\lambda)\\sim\\dfrac{1}{\\lambda^{\\alpha}}$$\n",
    "\n",
    "We want to understand, given $\\mu$, what is $\\alpha$?\n",
    "\n",
    "The problem was discussed by Soshnikov.  Later, these results were extended, to $0<\\mu<4$, by Biroli et al., with heuristic arguments and numerical simulations:  https://arxiv.org/abs/cond-mat/0609070\n",
    "\n",
    "and also see page 26\n",
    "http://www-syscom.univ-mlv.fr/~najim/gdr/bouchaud.pdf\n",
    "\n",
    "It was proven rigorously  Auffinger et al. https://arxiv.org/pdf/0811.1587.pdf\n",
    "\n",
    "We summarize the basic results and provide numerical simulations to help understand this\n",
    "\n",
    "\n",
    "#### Power Law $\\mu<2$\n",
    "\n",
    "For small mu, we have $alpha=1+\\mu/2$, such that the ESD behaves like a Power Law\n",
    "\n",
    "\n",
    " $$p(\\lambda)\\sim\\dfrac{1}{\\lambda^{1+\\mu/2}}$$\n",
    "   \n",
    "  \n",
    "#### Truncated Power Law $2<\\mu<2$\n",
    "\n",
    "When $p(x)$ is a Truncated Power Law, the ESD has a different relation, $\\alpha\\sim A\\mu+B$\n",
    "\n",
    " $$p(\\lambda)\\sim\\dfrac{1}{\\lambda^{A\\mu+B}}$$\n",
    " \n",
    "and remains a Power Law, even for finite matrices. \n",
    "\n",
    "We can determine the constants $A, B$ from numerical solution (shown below)\n",
    " \n",
    "#### Marchenk Pastur limiting form $\\mu<4$\n",
    "\n",
    "In this case, the ESD approaches the more familir Marchenko Pastur result from Random Matrix Theory\n",
    "\n",
    " $$p_{N}(\\lambda)\\rightarrow\\rho_{mp}(\\lambda)$$\n",
    "\n",
    "although it may be difficult to observe this for any finite size, small matrix because there may be supriously large matrix elements (and therefore large eigenvalues).\n",
    "\n",
    "#### Boundary Cases $\\mu=2, 4$   \n",
    "\n",
    "There are boundary cases for $\\mu=2$ and $\\mu=4$ which are interesting but I do not discuss here because it would be very difficult to observe these results for small matrices.\n",
    "\n",
    "#### PowerLaw fitting code\n",
    "\n",
    "https://github.com/jeffalstott/powerlaw\n"
   ]
  },
  {
   "cell_type": "code",
   "execution_count": 73,
   "metadata": {
    "ExecuteTime": {
     "end_time": "2018-08-19T06:48:02.455809Z",
     "start_time": "2018-08-19T06:48:02.435215Z"
    }
   },
   "outputs": [
    {
     "name": "stdout",
     "output_type": "stream",
     "text": [
      "0.19.1\n"
     ]
    }
   ],
   "source": [
    "import numpy as np\n",
    "import tensorflow as tf\n",
    "import pickle, time\n",
    "from copy import deepcopy\n",
    "from shutil import copy\n",
    "from tqdm import tqdm_notebook as tqdm\n",
    "import pandas as pd\n",
    "\n",
    "import matplotlib\n",
    "import matplotlib.pyplot as plt\n",
    "%matplotlib inline\n",
    "\n",
    "import import_ipynb\n",
    "import RMT_Util\n",
    "import powerlaw\n",
    "\n",
    "import sklearn\n",
    "from sklearn.decomposition import TruncatedSVD\n",
    "from sklearn.random_projection import sparse_random_matrix\n",
    "print(sklearn.__version__)"
   ]
  },
  {
   "cell_type": "markdown",
   "metadata": {},
   "source": [
    "### $\\mu<2$   Pareto / Power Law Distributions\n",
    "\n",
    "Notice:\n",
    "- log-log plots are farily linear past after $x_{max}\\sim 1$ value\n",
    "- as $\\mu$ decreases, the tail fills out."
   ]
  },
  {
   "cell_type": "code",
   "execution_count": null,
   "metadata": {
    "ExecuteTime": {
     "end_time": "2018-08-19T05:37:38.594640Z",
     "start_time": "2018-08-19T05:37:37.449761Z"
    }
   },
   "outputs": [],
   "source": [
    "mu=1.2 # Blue\n",
    "w = np.random.pareto(mu,size=10000)\n",
    "bins = np.logspace(np.log10(np.min(w)), np.log10(np.max(w)), num=100)\n",
    "plt.hist(w, bins=bins, density=True, log=True, color='blue', alpha=0.5);\n",
    "plt.xscale('log')\n",
    "\n",
    "mu=0.8 # Red\n",
    "w = np.random.pareto(mu,size=10000)\n",
    "bins = np.logspace(np.log10(np.min(w)), np.log10(np.max(w)), num=100)\n",
    "plt.hist(w, bins=bins, density=True, log=True, color='red', alpha=0.25);\n",
    "plt.xscale('log')\n",
    "\n",
    "mu=0.4  # Yellow\n",
    "w = np.random.pareto(mu,size=10000)\n",
    "bins = np.logspace(np.log10(np.min(w)), np.log10(np.max(w)), num=100)\n",
    "plt.hist(w, bins=bins, density=True, log=True, color='yellow', alpha=0.25);\n",
    "plt.xscale('log')\n",
    "plt.show()"
   ]
  },
  {
   "cell_type": "markdown",
   "metadata": {},
   "source": [
    "### $\\mu=0.4$ ESD\n",
    "\n",
    "The tail remains linear"
   ]
  },
  {
   "cell_type": "code",
   "execution_count": null,
   "metadata": {
    "ExecuteTime": {
     "end_time": "2018-08-19T05:37:39.338929Z",
     "start_time": "2018-08-19T05:37:38.596647Z"
    }
   },
   "outputs": [],
   "source": [
    "mu=0.4\n",
    "W = np.random.pareto(mu,size=(300,1000))\n",
    "Q = np.max(W.shape)/np.min(W.shape)\n",
    "evals, _ = RMT_Util.eigenspectrum(W)\n",
    "bins = np.logspace(np.log10(np.min(evals)), np.log10(np.max(evals)), num=100)\n",
    "plt.hist(evals, bins=bins, density=True, log=True, color='blue', alpha=0.25);\n",
    "plt.xscale('log')\n",
    "plt.title(r'$\\rho(\\lambda)$  $\\mu={}$'.format(mu))\n",
    "plt.show()"
   ]
  },
  {
   "cell_type": "markdown",
   "metadata": {},
   "source": [
    "#### PowerLaw fit  $\\mu=0.4$  too small\n",
    "\n",
    "The PowerLaw method does not work well here..it over-estimates $\\alpha$, as expected, and it mis-identifies the distribution as a Truncated power law.\n"
   ]
  },
  {
   "cell_type": "code",
   "execution_count": null,
   "metadata": {
    "ExecuteTime": {
     "end_time": "2018-08-19T05:37:40.389024Z",
     "start_time": "2018-08-19T05:37:39.341630Z"
    }
   },
   "outputs": [],
   "source": [
    "alpha, D, best_pl = RMT_Util.fit_powerlaw(evals)\n",
    "print(\"alpha {:3g}, D {:3g}, best_pl  {}\".format(alpha, D, best_pl))"
   ]
  },
  {
   "cell_type": "markdown",
   "metadata": {},
   "source": [
    "### $\\mu=1.2$ ESD\n",
    "\n",
    "The tail remains fat and the log-log plot is linear\n"
   ]
  },
  {
   "cell_type": "code",
   "execution_count": null,
   "metadata": {
    "ExecuteTime": {
     "end_time": "2018-08-19T05:37:41.409931Z",
     "start_time": "2018-08-19T05:37:40.391507Z"
    }
   },
   "outputs": [],
   "source": [
    "mu=1.2\n",
    "W = np.random.pareto(mu,size=(300,1000))\n",
    "Q = np.max(W.shape)/np.min(W.shape)\n",
    "evals, _ = RMT_Util.eigenspectrum(W)\n",
    "bins = np.logspace(np.log10(np.min(evals)), np.log10(np.max(evals)), num=100)\n",
    "plt.hist(evals, bins=bins, density=True, log=True, color='blue', alpha=0.25);\n",
    "plt.xscale('log')\n",
    "plt.title(r'$\\rho(\\lambda)$  $\\mu={}$'.format(mu))\n",
    "plt.show()"
   ]
  },
  {
   "cell_type": "markdown",
   "metadata": {
    "ExecuteTime": {
     "end_time": "2018-08-19T05:25:25.551331Z",
     "start_time": "2018-08-19T05:25:25.548134Z"
    }
   },
   "source": [
    "#### Power Law fit:  much better\n",
    "\n",
    "For small $\\mu$, the PowerLaw method consistantly returns a best fit to be Truncated Power Law (TPL)\n"
   ]
  },
  {
   "cell_type": "code",
   "execution_count": null,
   "metadata": {
    "ExecuteTime": {
     "end_time": "2018-08-19T05:37:42.355385Z",
     "start_time": "2018-08-19T05:37:41.413296Z"
    }
   },
   "outputs": [],
   "source": [
    "alpha, D, best_pl = RMT_Util.fit_powerlaw(evals)\n",
    "print(\"alpha {:3g}, D {:3g}, best_pl  {}\".format(alpha, D, best_pl))"
   ]
  },
  {
   "cell_type": "code",
   "execution_count": null,
   "metadata": {
    "ExecuteTime": {
     "end_time": "2018-08-19T05:37:43.278937Z",
     "start_time": "2018-08-19T05:37:42.357978Z"
    }
   },
   "outputs": [],
   "source": [
    "fit = powerlaw.Fit(evals, xmax=np.max(evals))\n",
    "R, p = fit.distribution_compare('truncated_power_law', 'power_law', normalized_ratio=True)\n",
    "R, p"
   ]
  },
  {
   "cell_type": "code",
   "execution_count": null,
   "metadata": {
    "ExecuteTime": {
     "end_time": "2018-08-19T05:37:43.990977Z",
     "start_time": "2018-08-19T05:37:43.282057Z"
    }
   },
   "outputs": [],
   "source": [
    "fig2 = fit.plot_pdf(color='b', linewidth=2)\n",
    "fit.power_law.plot_pdf(color='b', linestyle='--', ax=fig2)\n",
    "fit.plot_ccdf(color='r', linewidth=2, ax=fig2)\n",
    "fit.power_law.plot_ccdf(color='r', linestyle='--', ax=fig2)\n",
    "plt.title(r'fit of $\\mu=1.2$ ESD')\n",
    "plt.show()\n"
   ]
  },
  {
   "cell_type": "markdown",
   "metadata": {},
   "source": [
    "### $2<mu<4$\n",
    "\n",
    "- The log-log plot is nearly linear\n",
    "\n",
    "- but the tail drops off faster than linear\n",
    "\n",
    "- The PowerLaw method consistantly returns a best fit to be Power Law (PL)\n",
    "\n",
    "- The PowerLaw graphs cuts off for large eigenvalues\n"
   ]
  },
  {
   "cell_type": "code",
   "execution_count": null,
   "metadata": {
    "ExecuteTime": {
     "end_time": "2018-08-19T05:37:46.522854Z",
     "start_time": "2018-08-19T05:37:43.993268Z"
    }
   },
   "outputs": [],
   "source": [
    "mu=2.5\n",
    "W = np.random.pareto(mu,size=(300,1000))\n",
    "Q = np.max(W.shape)/np.min(W.shape)\n",
    "evals, _ = RMT_Util.eigenspectrum(W)\n",
    "bins = np.logspace(np.log10(np.min(evals)), np.log10(np.max(evals)), num=100)\n",
    "plt.hist(evals, bins=bins, density=True, log=True, color='blue', alpha=0.25);\n",
    "plt.xscale('log')\n",
    "plt.title(r'$\\rho(\\lambda)$  $\\mu={}$'.format(mu))\n",
    "plt.show()\n",
    "\n",
    "RMT_Util.fit_and_plot_powerlaw(evals)"
   ]
  },
  {
   "cell_type": "code",
   "execution_count": null,
   "metadata": {
    "ExecuteTime": {
     "end_time": "2018-08-19T05:37:48.953227Z",
     "start_time": "2018-08-19T05:37:46.525810Z"
    }
   },
   "outputs": [],
   "source": [
    "mu=3.5\n",
    "W = np.random.pareto(mu,size=(300,1000))\n",
    "Q = np.max(W.shape)/np.min(W.shape)\n",
    "evals, _ = RMT_Util.eigenspectrum(W)\n",
    "bins = np.logspace(np.log10(np.min(evals)), np.log10(np.max(evals)), num=100)\n",
    "plt.hist(evals, bins=bins, density=True, log=True, color='blue', alpha=0.25);\n",
    "plt.xscale('log')\n",
    "plt.title(r'$\\rho(\\lambda)$  $\\mu={}$'.format(mu))\n",
    "plt.show() \n",
    "\n",
    "RMT_Util.fit_and_plot_powerlaw(evals)\n"
   ]
  },
  {
   "cell_type": "markdown",
   "metadata": {},
   "source": [
    "### $4<mu$\n"
   ]
  },
  {
   "cell_type": "code",
   "execution_count": null,
   "metadata": {
    "ExecuteTime": {
     "end_time": "2018-08-19T05:43:09.499665Z",
     "start_time": "2018-08-19T05:39:35.542Z"
    }
   },
   "outputs": [],
   "source": [
    "mu=5.0\n",
    "W = np.random.pareto(mu,size=(300,1000))\n",
    "Q = np.max(W.shape)/np.min(W.shape)\n",
    "evals, _ = RMT_Util.eigenspectrum(W)\n",
    "bins = np.logspace(np.log10(np.min(evals)), np.log10(np.max(evals)), num=100)\n",
    "plt.hist(evals, bins=bins, density=True, log=True, color='blue', alpha=0.25);\n",
    "plt.xscale('log')\n",
    "plt.title(r'$\\rho(\\lambda)$  $\\mu={}$'.format(mu))\n",
    "plt.show() \n",
    "\n",
    "RMT_Util.fit_and_plot_powerlaw(evals)"
   ]
  },
  {
   "cell_type": "markdown",
   "metadata": {},
   "source": [
    "### Overlay $\\mu=1.0$ and $\\mu=3.0$ to compare how the ESDs decay"
   ]
  },
  {
   "cell_type": "code",
   "execution_count": null,
   "metadata": {
    "ExecuteTime": {
     "end_time": "2018-08-19T05:44:13.432027Z",
     "start_time": "2018-08-19T05:43:11.931173Z"
    }
   },
   "outputs": [],
   "source": [
    "W = np.random.pareto(1.0,size=(3000,9000))\n",
    "W = W/100\n",
    "Q = np.max(W.shape)/np.min(W.shape)\n",
    "evals_small, _ = RMT_Util.eigenspectrum(W)\n",
    "\n",
    "W = np.random.pareto(3.0,size=(3000,9000))\n",
    "W = W\n",
    "Q = np.max(W.shape)/np.min(W.shape)\n",
    "evals_medium, _ = RMT_Util.eigenspectrum(W)\n",
    "\n",
    "bins = np.logspace(np.log10(np.min(evals_small)), np.log10(np.max(evals_small)), num=100)\n",
    "plt.hist(evals_small, bins=bins, density=True, log=True, color='blue', alpha=0.25, label=\"$\\mu=1$\");\n",
    "plt.xscale('log')\n",
    "#plt.show()\n",
    "\n",
    "bins = np.logspace(np.log10(np.min(evals_medium)), np.log10(np.max(evals_medium)), num=100)\n",
    "plt.hist(evals_medium, bins=bins, density=True, log=True, color='green', alpha=0.25, label=\"$\\mu=3$\");\n",
    "plt.xscale('log')\n",
    "plt.title(\"Comparison of Log-log Histogram for different heavy tailed matrix ESDs\")\n",
    "plt.legend()\n",
    "\n",
    "# plt.savefig(\"img/heavy-tailed-log-log-esds.png\")"
   ]
  },
  {
   "cell_type": "code",
   "execution_count": null,
   "metadata": {
    "ExecuteTime": {
     "end_time": "2018-08-19T05:44:14.960075Z",
     "start_time": "2018-08-19T05:44:14.190375Z"
    }
   },
   "outputs": [],
   "source": [
    "bins = np.logspace(np.log10(np.min(evals_medium)), np.log10(np.max(evals_medium)), num=100)\n",
    "plt.hist(evals_medium, bins=bins, density=True, log=True, color='green', alpha=0.25, label=\"$\\mu=3$\");\n",
    "plt.xscale('log')\n",
    "plt.title(\"Log-log Histogram for $\\mu=3$, Zoomed in\")\n",
    "plt.legend()\n",
    "\n",
    "# plt.savefig(\"img/heavy-tailed-log-log-esd-zoomed.png\")"
   ]
  },
  {
   "cell_type": "markdown",
   "metadata": {},
   "source": [
    "### ESDs  Fits, comparison to Theory\n",
    "\n",
    "This is pretty slow (> 24 hours), but it will let us see how $\\mu$ relates to $\\alpha$ for each Universality Class"
   ]
  },
  {
   "cell_type": "code",
   "execution_count": 2,
   "metadata": {
    "ExecuteTime": {
     "end_time": "2018-08-19T06:11:16.710627Z",
     "start_time": "2018-08-19T06:11:16.706136Z"
    }
   },
   "outputs": [],
   "source": [
    "def get_pareto_mat(mu, M=5000, Q=2):\n",
    "    N = int(Q*M)\n",
    "    W = np.random.pareto(mu,size=(M,N))\n",
    "    evals, _ = RMT_Util.eigenspectrum(W)\n",
    "    return W, evals"
   ]
  },
  {
   "cell_type": "code",
   "execution_count": null,
   "metadata": {
    "ExecuteTime": {
     "start_time": "2018-08-19T06:49:18.925Z"
    }
   },
   "outputs": [],
   "source": [
    "alphas = []\n",
    "#mus = [1.5, 1.8, 2.0, 2.2, 2.5, 3, 3.5, 4, 4.5, 5, 5.5, 6]\n",
    "mus = np.sort(3*np.random.random_sample(100)+.5)\n",
    "for mu in tqdm(mus):\n",
    "      \n",
    "    W, evals = get_pareto_mat(mu) \n",
    "    \n",
    "    alpha, _, _ = RMT_Util.fit_powerlaw(evals)\n",
    "    alphas.append(alpha)\n"
   ]
  },
  {
   "cell_type": "code",
   "execution_count": null,
   "metadata": {
    "ExecuteTime": {
     "start_time": "2018-08-19T06:49:30.344Z"
    }
   },
   "outputs": [],
   "source": [
    "small_mu_alphas = []\n",
    "medium_mu_alphas = []\n",
    "for mu in mus:\n",
    "    alpha = 1.0+mu/2.0\n",
    "    small_mu_alphas.append(alpha)\n",
    "    \n",
    "    alpha = 2.5*(mu)-3\n",
    "    medium_mu_alphas.append(alpha)\n"
   ]
  },
  {
   "cell_type": "code",
   "execution_count": null,
   "metadata": {
    "ExecuteTime": {
     "start_time": "2018-08-19T06:49:30.536Z"
    }
   },
   "outputs": [],
   "source": [
    "plt.scatter(mus, alphas, marker='.')  \n",
    "plt.plot(mus, small_mu_alphas, color='red')\n",
    "plt.plot(mus, medium_mu_alphas, color='orange')\n",
    "plt.xlabel('$\\mu$')\n",
    "plt.ylabel(r'$\\alpha$')\n",
    "plt.title(r'Powerlaw estimate for $\\alpha$ given $\\mu$ ')"
   ]
  },
  {
   "cell_type": "code",
   "execution_count": null,
   "metadata": {},
   "outputs": [],
   "source": []
  }
 ],
 "metadata": {
  "kernelspec": {
   "display_name": "Python 3",
   "language": "python",
   "name": "python3"
  },
  "language_info": {
   "codemirror_mode": {
    "name": "ipython",
    "version": 3
   },
   "file_extension": ".py",
   "mimetype": "text/x-python",
   "name": "python",
   "nbconvert_exporter": "python",
   "pygments_lexer": "ipython3",
   "version": "3.6.5"
  },
  "widgets": {
   "state": {
    "506c8ca0d4244bd0a4cff5c4c17e659f": {
     "views": [
      {
       "cell_index": 24
      }
     ]
    }
   },
   "version": "1.2.0"
  }
 },
 "nbformat": 4,
 "nbformat_minor": 2
}
